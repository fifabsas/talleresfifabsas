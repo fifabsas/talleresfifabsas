{
 "cells": [
  {
   "cell_type": "markdown",
   "metadata": {
    "id": "OOTFcaJ9QQo1"
   },
   "source": [
    "![taller_python](https://github.com/fifabsas/talleresfifabsas/blob/master/python/2_Numerico/fig/logo_fifa.png?raw=true)"
   ]
  },
  {
   "cell_type": "markdown",
   "metadata": {
    "id": "EGdl6VINDtKi"
   },
   "source": [
    "# <center> Taller de Python de la FIFA <br> Notebook 1: Introducción a Python </center>\n",
    "\n",
    "[Link al notebook en Google Colaboratory](https://drive.google.com/file/d/1bqkkx--MX5Mz-rWFTsRgx7WQUU1W77gH/view?usp=sharing)\n",
    "## ¿Quienes somos? ¿Qué es la FIFA?\n",
    "\n",
    "La FIFA, Federación Interestudiantil de Física  Argentina, nació en 2007 buscando organizar encuentros y actividades entre les estudiantes de física. Organizamos varios eventos además de este taller como la Fiesta de la Primavera, la churreada, el viaje a la RAFA y más.\n",
    "\n",
    "Les que estamos acá hoy somos un grupo de estudiantes de física, con algunas incorporaciones de biología, datos y matemática, que se copa a dar este taller como una introducción a Python general, pero orientado a estudiantes de física, para que puedan aprender sobre herramientas útiles para los laboratorios y la carrera.\n",
    "\n",
    "Python sirve para muchas cosas, como para graficar, hacer animaciones, trabajar con matrices, resolver ecuaciones diferenciales y muchas cosas más.\n"
   ]
  },
  {
   "cell_type": "markdown",
   "metadata": {
    "id": "C5u4uwC0LBSC"
   },
   "source": [
    "### Cosas copadas que se pueden hacer con Python\n",
    "\n",
    "Acá les dejamos algunos ejemplos de cosas cancheras que hicieron algunes compañeres que hoy dan el curso.\n",
    "\n",
    " [Drive con cosas lindas](https://drive.google.com/drive/folders/19BVN0S71JsdozBusXUo_A5p0PMro0A-z?usp=sharing)\n",
    "\n",
    " ![desactivar_ia](https://github.com/fifabsas/talleresfifabsas/blob/master/python/1_Introductorio/fig/desactivar_ia.png?raw=true)"
   ]
  },
  {
   "cell_type": "markdown",
   "metadata": {
    "id": "9SUuvhRE9QVQ"
   },
   "source": [
    "## ¿Que es programar?\n",
    "Al programar, nos comunicamos con una computadora para que haga lo que queremos, por lo cual es conveniente que *una computadora ejecuta exactamente lo que le pedimos*. Pero hay que tener cuidado y paciencia. Estamos hablando con un ser no inteligente que necesita que le digamos todo de forma no ambigua y paso a paso. Por esto, resulta útil al programar ponerse en el lugar de la computadora.\n",
    "- ¿Que informacion le dí hasta ahora?\n",
    "- ¿Podria interpretarla de una forma distinta a la que quiero?\n",
    "- ¿Como me aseguro para que esto no suceda?\n",
    "\n",
    "Como son tan minuciosas las computadoras con sus instrucciones, hay que acostumbrarse al lenguaje de programación que usamos para poder enunciar lo que queremos hacer correctamente, ya que cada lenguaje de programación difiere en sintaxis y semántica. Como ya saben, en este curso usamos el lenguaje Python.\n",
    "\n",
    "Veamos la importancia de prevenir la ambiguedad en un programa usando a Python como una calculadora:"
   ]
  },
  {
   "cell_type": "code",
   "execution_count": 28,
   "metadata": {
    "id": "kU4sEYEIHFWq"
   },
   "outputs": [
    {
     "data": {
      "text/plain": [
       "9"
      ]
     },
     "execution_count": 28,
     "metadata": {},
     "output_type": "execute_result"
    }
   ],
   "source": [
    "3+3*2"
   ]
  },
  {
   "cell_type": "code",
   "execution_count": 29,
   "metadata": {
    "id": "J_t9yepJHMhX"
   },
   "outputs": [
    {
     "data": {
      "text/plain": [
       "12"
      ]
     },
     "execution_count": 29,
     "metadata": {},
     "output_type": "execute_result"
    }
   ],
   "source": [
    "(3+3)*2"
   ]
  },
  {
   "cell_type": "markdown",
   "metadata": {
    "id": "Ue9Paa2vQI3C"
   },
   "source": [
    "Para realizar estas operaciones sobre los números, Python tiene que considerar un par de cosas. Por ejemplo ¿Que son `3` y `2`? ¿Que operación indica el simbolo `+` sobre `3` y `3`? ¿Puedo realizar la operación en este caso?\n",
    "\n",
    "Como vemos, dado que los códigos se ejecutaron con éxito, Python viene con información incluida, que nos va a simplificar mucho lo que necesitamos hacer para programar algo interesante."
   ]
  },
  {
   "cell_type": "markdown",
   "metadata": {
    "id": "BondWN_8_HNj"
   },
   "source": [
    "## Tipos de objetos\n",
    "\n",
    "Veamos otra operación realizada en Python:"
   ]
  },
  {
   "cell_type": "code",
   "execution_count": 30,
   "metadata": {
    "id": "YFDJucof-RiR"
   },
   "outputs": [
    {
     "data": {
      "text/plain": [
       "'Hasta el infinito y más allá!'"
      ]
     },
     "execution_count": 30,
     "metadata": {},
     "output_type": "execute_result"
    }
   ],
   "source": [
    "\"Hasta el infinito \" + \"y más allá!\""
   ]
  },
  {
   "cell_type": "markdown",
   "metadata": {
    "id": "87dKeIrWUUgx"
   },
   "source": [
    "Acá, Python nuevamente ejecuto el programa, pero realizó otra operación con el `+`, *concatenó* dos textos. ¿Por qué hizo esto?\n",
    "\n",
    "En el caso anterior, habiamos estado trabajando con objetos numéricos, mientras que ahora estamos trabajando con otro **tipo de dato**. Como fue construido, Python sabe que a distintos tipos de datos les corresponden distintas operaciones, por lo que los guarda en su memoria etiquetados de distinta manera. Algunos tipos de datos son\n",
    "\n",
    "<!--- Empezar analogía del cuarto?--->\n",
    "\n",
    "- Los **números enteros**, que están etiquetados `int` (de *integer*). <!---Poner aplicaciones? (contar)--->\n",
    "- Los **números \"reales\"**, que se guardan como `float`.\n",
    "\n",
    "> 📝 **Nota:** Por su memoria limitada, las compus no guardan a los números reales con una cantidad infinita de digitos, [los redondean de alguna manera](<https://es.wikipedia.org/wiki/Coma_flotante>), por lo cual un `float` no es exactamente un número real.\n",
    "\n",
    "\n",
    "- Los datos de **texto**, siempre entre comillas (simples `' '` o dobles `\" \"`), son *strings*: `str`.\n",
    "- los **booleanos**, `bool`, que tienen dos valores posibles: Verdadero (`True`) o Falso (`False`).\n",
    "\n",
    "En Python, podemos obtener el tipo de un objeto de la siguiente forma:\n",
    "<!---Jugar con celda debajo--->"
   ]
  },
  {
   "cell_type": "code",
   "execution_count": 31,
   "metadata": {
    "id": "HnOOmoijaXQQ"
   },
   "outputs": [
    {
     "data": {
      "text/plain": [
       "float"
      ]
     },
     "execution_count": 31,
     "metadata": {},
     "output_type": "execute_result"
    }
   ],
   "source": [
    "type(0.12) # Jugar con código"
   ]
  },
  {
   "cell_type": "markdown",
   "metadata": {
    "id": "kOzeSmMQdh9Z"
   },
   "source": [
    ":> 👀 **Observación:** Cualquier texto escrito luego de `#` Python lo toma como un comentario y no lo trata de ejecutar, que esta muy bueno para aclarar cosas del código. ¡Úsenlo!\n",
    "\n",
    "`type` es una *función* que Python tiene predefinida, muy útil para saber el tipo de dato con el cual estámos trabajando.\n",
    "\n",
    "Las funciones realizan alguna tarea específica sobre los argumentos que se les dan entre paréntesis.  \n",
    "\n",
    "Otra funcion predefinida que vamos a estar usando mucho es `print`, que imprime todos sus argumentos. Veamosla:"
   ]
  },
  {
   "cell_type": "code",
   "execution_count": 32,
   "metadata": {
    "id": "cIs8hVaayq_p"
   },
   "outputs": [
    {
     "name": "stdout",
     "output_type": "stream",
     "text": [
      "El significado de todo es 42\n"
     ]
    }
   ],
   "source": [
    "print(\"El significado de todo es\", 42)"
   ]
  },
  {
   "cell_type": "markdown",
   "metadata": {
    "id": "Fd-Ip8jefcfK"
   },
   "source": [
    "## Operaciones sobre números\n",
    "\n",
    "Ahora que sabemos un poco más como trabaja Python con distintos tipos de datos, vemos otras operaciones numéricas que tiene definidas:\n",
    "- Como vimos, el operador `+` suma dos números,\n",
    "- `-` los resta,\n",
    "- Se usa `*` para multiplicar,\n",
    "- Se divide con `/`,\n",
    "- El operador `//` indica una division entera (por ejemplo, `10 // 8` daría 1, porque 8 entra solo una vez en 10 de forma entera) .\n",
    "- Para potencias, `**` es el símbolo de \"elevado a\".\n",
    "- Y el operador `%` me da el resto de una division (por ejemplo, `10 % 8` da 2)."
   ]
  },
  {
   "cell_type": "code",
   "execution_count": 33,
   "metadata": {
    "id": "gzZo22ZtdgYK"
   },
   "outputs": [
    {
     "data": {
      "text/plain": [
       "4.0"
      ]
     },
     "execution_count": 33,
     "metadata": {},
     "output_type": "execute_result"
    }
   ],
   "source": [
    "8/2  # Jugar con código"
   ]
  },
  {
   "cell_type": "markdown",
   "metadata": {
    "id": "XxLIBOx2nAgN"
   },
   "source": [
    "Todas las operaciones que hicimos arriba con enteros devolvieron un `int`, a excepción de la división, que devolvió un `float`. En general, el resultado de una división no puede ser representado por un entero y como Python a priori no sabe el resultado, se convierten los números en flotantes antes de realizar la división."
   ]
  },
  {
   "cell_type": "markdown",
   "metadata": {
    "id": "Fq_QFFCl_iO0"
   },
   "source": [
    "## Guardar datos: ¿Que son las variables?\n",
    "\n",
    "Hasta ahora solo estuvimos usando a Python para ejecutar programas de una sola linea, no mucho más de lo que podemos hacer con la calculadora. Si queremos hacer cosas que requieren más de una linea, rápidamente nos vamos a dar cuenta que nos viene muy bien poder guardar los resultados anteriores.\n",
    "\n",
    "Si queremos guardar un dato, le debemos asignar un nombre. Una vez hecho esto, Python guardará el dato en una **variable** con ese nombre. Para verlo mejor, imaginemos que la memoria es una gran habitación, y que la \"variable\" es una caja etiquetada donde Python guarda el dato.\n",
    "\n",
    "Para asignar un dato a una variable, usamos el signo `=`. Por ejemplo, debajo le asignamos el entero 5 a la variable `x`."
   ]
  },
  {
   "cell_type": "code",
   "execution_count": 34,
   "metadata": {
    "id": "duWaeVVSvdc2"
   },
   "outputs": [
    {
     "name": "stdout",
     "output_type": "stream",
     "text": [
      "5\n"
     ]
    }
   ],
   "source": [
    "x = 5\n",
    "print(x)\n",
    "\n",
    "# y = 2**x\n",
    "# print(y)\n",
    "\n",
    "# x = \"Milanesa\"\n",
    "# print(x)\n",
    "\n",
    "# print(y)"
   ]
  },
  {
   "cell_type": "markdown",
   "metadata": {
    "id": "RlM1a7IgBxfa"
   },
   "source": [
    "Como podemos ver, al principio de la celda de código la variable `x` tiene asignada un dato, pero al final tiene otro. Esto es debido a que:\n",
    "<center>\n",
    "\n",
    "<i>**Python ejecuta el código linea por linea de arriba hacia abajo**.</i>\n",
    "\n",
    "y\n",
    "\n",
    "<i>se pueden sobreescribir las variables.</i>\n",
    "\n",
    "</center>\n"
   ]
  },
  {
   "cell_type": "markdown",
   "metadata": {
    "id": "PkCJC3WR942n"
   },
   "source": [
    "## Cómo dar formato al texto\n",
    "\n",
    "Vamos a ver un poco como dar formato a los *strings*. Esto no solo nos interesa para poder imprimir cosas en pantalla de una forma más elegante, sino que además es muy útil para manejar instrumentos en el laboratorio, ya que estos reciben como *input* una cadena de texto.\n",
    "\n",
    "Para imprimir un texto junto a el valor de una variable en el ejemplo anterior, realizamos una linea de este estilo\n",
    "```python\n",
    "print(\"La siguiente variable\", nombre_variable, \"es muy importante.\")\n",
    "```\n",
    "que en principio no tiene nada de malo, pero es difícil de leer en el código y se puede poner peor si hay que poner más variables.\n",
    "\n",
    "Dicho esto, una manera de reesrcribir esta linea de forma más elegante es usando algo que se conoce como un `f-string` (format string). Esta forma está muy buena, pero sólo es compatible con las versiones más modernas de Python (que son las que deberían usar). Si les intriga o necesitan otras maneras de dar formato a strings, van a encontrar más información en el **apéndice**.\n",
    "Veamos a los f-string's en acción."
   ]
  },
  {
   "cell_type": "code",
   "execution_count": 35,
   "metadata": {
    "id": "79Ow2H7o5rmJ"
   },
   "outputs": [
    {
     "name": "stdout",
     "output_type": "stream",
     "text": [
      "2 + 3 es igual a 5\n"
     ]
    }
   ],
   "source": [
    "print(f\"2 + 3 es igual a {2+3}\")"
   ]
  },
  {
   "cell_type": "markdown",
   "metadata": {
    "id": "EWU80HYNFOMH"
   },
   "source": [
    "---\n",
    "### Ejercicio 0 (5 minutos)\n",
    "\n",
    "<!---insertar resumen acá--->\n",
    "\n",
    "##### Objetivos:\n",
    "\n",
    "1. Declarar una variable `x` que contenga el número 9 elevado a algun número entero entre 1 y 10.\n",
    "2. Imprimir el valor de `x` y el tipo de `x`.\n",
    "3.  Probar cambiar el exponente de 9 por 1/2, y luego por algún número negativo. ¿Qué sucede? ¿Qué tipo tiene `x` en estos casos? **¡Ojo con los paréntesis!**\n"
   ]
  },
  {
   "cell_type": "markdown",
   "metadata": {
    "id": "dWKlFNYy2j2O"
   },
   "source": [
    "---\n",
    "### Ejercicio 1 (10 minutos)\n",
    "\n",
    "Encontrar las raíces del polinomio\n",
    "\n",
    "$$x^2 + \\frac{3}{2}x -1$$\n",
    "\n",
    "Recordar que la fórmula para las raíces de un polinomio del estilo $a\\,x^2 + b\\,x + c$ es\n",
    "\n",
    "$$x_{1,2} = \\frac{-b\\pm(b^2 -4ac)^{\\frac{1}{2}}}{2a}$$\n",
    "\n",
    "Les tiene que dar $x_1 = \\frac{1}{2}$ y $x_2 = -2$\n",
    "\n",
    "##### Objetivos\n",
    "1. Declarar las variables `a`, `b`, `c` para los coeficientes\n",
    "2. Guardar los resultados en las variables `x1` y `x2`.\n",
    "3. Imprimir los valores de `x1` y `x2`.\n",
    "\n",
    "¿Los resultados son de tipo _int_ o _float_?\n",
    "\n",
    "4. Reemplazar los valores de `a`, `b`, y `c` para encontrar las raíces de\n",
    "\n",
    "$$4x^2 - x$$\n",
    "\n",
    "Les tiene que dar $x_1 = \\frac{1}{4}$ y $x_2 = 0$\n",
    "\n",
    "**¡Ahora pueden obtener las raíces de cualquier cuadrática cambiando `a`, `b`, y `c`!**\n",
    "\n",
    "---\n",
    "\n",
    "[Ejercicios complementarios](https://colab.research.google.com/drive/1sEzfcUMp25APTYiHvspJc_YMOJ_MOxMl?usp=sharing)\n",
    "\n",
    "---"
   ]
  },
  {
   "cell_type": "markdown",
   "metadata": {
    "id": "LAy9DopfG7rs"
   },
   "source": [
    "## Condicionales\n",
    "En esta sección vamos a ver como las variables de tipo _bool_ nos permiten controlar la ejecución del código, dandole más versatilidad a los programas que escribamos.\n",
    "\n",
    "### Tipo `bool`\n",
    "\n",
    "Como mencionamos antes, una variable booleana solo posee dos valores posibles: `True` y `False`. Son especialmente útiles para verificar si una condición se cumple (`True`) o no (`False`).\n",
    "\n",
    "Estas variables se comportan bajo el álgebra de Bool, por lo que permiten hacer operaciones lógicas si se está familiarizado con esta.\n",
    "Lo que nos es relevante para este momento del curso es que nos permiten verificar (des)igualdades. Podemos pensarlo también como que Python puede responder ciertas preguntas de \"sí o no\"."
   ]
  },
  {
   "cell_type": "code",
   "execution_count": 36,
   "metadata": {
    "id": "EJlYU_04G7rs"
   },
   "outputs": [
    {
     "name": "stdout",
     "output_type": "stream",
     "text": [
      "False\n"
     ]
    }
   ],
   "source": [
    "# ¿3 es mayor que 4?\n",
    "print(3 > 4)"
   ]
  },
  {
   "cell_type": "code",
   "execution_count": 37,
   "metadata": {
    "id": "hDp-Np6qwaNq"
   },
   "outputs": [
    {
     "name": "stdout",
     "output_type": "stream",
     "text": [
      "True\n"
     ]
    }
   ],
   "source": [
    "# ¿3² es distinto de 2³?\n",
    "print(3**2 != 2**3)"
   ]
  },
  {
   "cell_type": "code",
   "execution_count": 38,
   "metadata": {
    "id": "LSiULEekw_fn"
   },
   "outputs": [
    {
     "name": "stdout",
     "output_type": "stream",
     "text": [
      "False\n"
     ]
    }
   ],
   "source": [
    "# ¿Se encuentra la letra 'o' en el string 'Euler'?\n",
    "print('o' in 'Euler')"
   ]
  },
  {
   "cell_type": "markdown",
   "metadata": {
    "id": "WRi9Env4G7rs"
   },
   "source": [
    "Los símbolos `>`, `!=` son **operadores de comparación**.\n",
    "Acá una lista de los más usados:\n",
    "* `a > b` verifica si `a` es **mayor** que `b`\n",
    "* `a < b` verifica si `a` es **menor** que `b`\n",
    "* `a >= b` verifica si `a` es **mayor o igual** que `b`\n",
    "* `a <= b` verifica si `a` es **menor o igual** que `b`\n",
    "* `a != b` verifica si `a` es **distinto** que `b`\n",
    "* `a == b` verifica si `a` es **igual** que `b`\n",
    "\n",
    "\n",
    "Es importante destacar que para verificar la igualdad se usa `==` y no `=` ya que este último está reservado para _asignar_ un valor.\n",
    "\n",
    "Por otra parte, `a in b` verifica si `a` está contenido en la secuencia `b`. Esto resulta útil para muchas cosas además de verificar si una palabra contiene una letra.\n",
    "\n",
    "**En todos estos casos, los _resultados_ de la operación son booleanos**"
   ]
  },
  {
   "cell_type": "markdown",
   "metadata": {
    "id": "le6795qkG7rt"
   },
   "source": [
    "### Condicionales (`if`, `elif` y `else`)\n",
    "\n",
    "De la misma forma que une decide agarrar el paraguas si está lloviendo, hay código que solo vamos a querer ejecutar en caso de que se cumpla alguna condición.\n",
    "\n",
    "La expresión en español <b>\"si llueve, recordale que se lleve el paraguas\"</b> podría traducirse a un programa de python de la siguiente manera:"
   ]
  },
  {
   "cell_type": "code",
   "execution_count": 39,
   "metadata": {
    "id": "L1bC80V96Vnc"
   },
   "outputs": [],
   "source": [
    "# Ejemplo\n",
    "llueve = False\n",
    "\n",
    "if llueve:\n",
    "    print(\"¡No te olvides el paraguas!\")"
   ]
  },
  {
   "cell_type": "markdown",
   "metadata": {
    "id": "nFyDLaH_7x1a"
   },
   "source": [
    "Ahí, la variable `llueve` debería ser un booleano que contenga el valor `True` en caso de que efectivamente esté lloviendo, y el valor `False` en caso de que no. Luego, la línea con el `print` solo se ejecutará en caso de que `llueve` sea `True`.\n",
    "\n",
    "Ahora supongamos que queremos traducir la expresión **\"si llueve, recordale que se lleve el paraguas. ¡Y que no se olvide de cargar la sube!\"**. En este caso, habría que mencionar que hay que cargar la sube aún si no está lloviendo. Así, el código análogo quedaría:"
   ]
  },
  {
   "cell_type": "code",
   "execution_count": 40,
   "metadata": {
    "id": "r3UkfYzfG7rt"
   },
   "outputs": [
    {
     "name": "stdout",
     "output_type": "stream",
     "text": [
      "¡No te olvides el paraguas!\n",
      "Carga la sube que subió el boleto.\n"
     ]
    }
   ],
   "source": [
    "llueve = True\n",
    "\n",
    "if llueve:\n",
    "    print(\"¡No te olvides el paraguas!\")\n",
    "\n",
    "print('Carga la sube que subió el boleto.')"
   ]
  },
  {
   "cell_type": "markdown",
   "metadata": {
    "id": "tcb9tBgJG7ru"
   },
   "source": [
    "\n",
    "Vemos que la estructura de cada uno de los `if` es algo así:\n",
    "\n",
    "```python\n",
    "esto se ejecuta sí o sí\n",
    "if bool:\n",
    "    |esto se ejecuta\n",
    "    |si bool es True\n",
    "    \n",
    "esto se ejecuta sí o sí\n",
    "```\n",
    "\n",
    ">❗**Importante:** Las líneas que inician con `if` terminan con `:` (dos puntos), si se los olvidan, Python tira error. Además, en las líneas que siguen a los `:`, las barritas `|` marcan que esa parte de código está **identada** (tiene una sangría), lo que implica que <u>es una parte que se va a ejecutar únicamente si la condición que está arriba (y sin identar) se cumple</u>. O sea, podemos pensar que <u>hay un bloque de código asociado a ese `if`, y todo en ese bloque debe poseer la misma indentación</u>.\n",
    "\n",
    "En el código de arriba, si `llueve` es `True` se ejecuta la línea que contiene el primer `print` y luego se ejecuta la línea que tiene al segundo. Pero si `llueve` resulta `False`, entonces se ejecuta directamente la segunda línea, ignorando el recordatorio del paraguas.\n",
    "\n",
    "Vamos con otro ejemplo:"
   ]
  },
  {
   "cell_type": "code",
   "execution_count": 41,
   "metadata": {
    "id": "CJ8woMtT-IYY"
   },
   "outputs": [
    {
     "name": "stdout",
     "output_type": "stream",
     "text": [
      "5 es positivo.\n",
      "5 es menor que 10.\n"
     ]
    }
   ],
   "source": [
    "num = 5\n",
    "\n",
    "if num > 0:\n",
    "    print(f'{num} es positivo.')\n",
    "\n",
    "if num <  10:\n",
    "    print(f'{num} es menor que 10.')"
   ]
  },
  {
   "cell_type": "markdown",
   "metadata": {
    "id": "OiTSEn6GG7ru"
   },
   "source": [
    "En este caso, estamos evaluando dos condiciones que son independientes, por lo que tiene sentido crear una sentencia `if` para cada una.\n",
    "\n",
    "Ahora, podríamos estar interesades en ver condiciones que no son independientes. Por ejemplo, si un número no es mayor que cero, podemos concluir que debe ser 0 o negativo.\n",
    "\n"
   ]
  },
  {
   "cell_type": "code",
   "execution_count": 42,
   "metadata": {
    "id": "zulm9WrkDrVv"
   },
   "outputs": [
    {
     "name": "stdout",
     "output_type": "stream",
     "text": [
      "-42 es cero o negativo.\n"
     ]
    }
   ],
   "source": [
    "num = -42\n",
    "\n",
    "if num > 0:\n",
    "    print(f'{num} es positivo.')\n",
    "else:\n",
    "    print(f'{num} es cero o negativo.')"
   ]
  },
  {
   "cell_type": "markdown",
   "metadata": {
    "id": "PKXMiyWsD88p"
   },
   "source": [
    "<u>El `else`, como su nombre indica, se ejecuta en caso de que no se cumpla la condición del `if` que lo antecede.</u>\n",
    "\n",
    "Volviendo a los ejemplos de la vida cotidiana, y suponiendo que une no tiene de esos celus modernos que te cargan la sube ahí mismo, podemos pensar en la siguiente situación:\n",
    "\n",
    "Tenemos un dado saldo en la sube, y querríamos armar un programa que nos diga si nos alcanza para ir y volver a la facu, o en caso contrario que nos indique cuánto cargar.\n",
    "\n",
    "(ojo, vamos a asumir que no queremos quedar en saldo negativo, y como cursamos muchas horas acá en exactas, no aplican descuentos por viajes sucesivos, pero si quieren de tarea le meten todas esas cosas)."
   ]
  },
  {
   "cell_type": "code",
   "execution_count": 43,
   "metadata": {
    "id": "f5HM9ORzEyD4"
   },
   "outputs": [
    {
     "name": "stdout",
     "output_type": "stream",
     "text": [
      "Para ir y volver, deberías cargarle al menos 40.\n"
     ]
    }
   ],
   "source": [
    "saldo_sube = 10  # pesos\n",
    "boleto_bondi = 25  # pesos\n",
    "\n",
    "# Si alcanza para la ida y la vuelta...\n",
    "if saldo_sube > 2*boleto_bondi:\n",
    "    print('Alcanza para dos viajes.')\n",
    "\n",
    "# Si no alcanza...\n",
    "else:\n",
    "    diff = 2*boleto_bondi - saldo_sube\n",
    "    print(f'Para ir y volver, deberías cargarle al menos {diff}.')"
   ]
  },
  {
   "cell_type": "markdown",
   "metadata": {
    "id": "GfyKx5iEFc-m"
   },
   "source": [
    "Une podría quedarse contento con ese programa, pero a veces salimos apurades y como está la terminal esa piola en la puerta del pabe 1, nos gustaría saber si podemos esperar para cargar en la facultad, en vez de hacerlo por nuestro barrio.\n",
    "\n",
    "Para esto, sería fundamental poder discernir entre tres escenarios excluyentes:\n",
    "\n",
    "\n",
    "1.   El saldo alcanza para la ida y la vuelta. Cargamos otro día.\n",
    "2.   El saldo alcanza para la ida, pero no para la vuelta. Cargamos directamente en la Facu que es más cómodo.\n",
    "3.   El saldo no alcanza para la ida ni para la vuelta. Cargamos por casa así que salí temprano.\n",
    "\n",
    "\n",
    "Para esto de discernir entre casos, la herramienta fundamental es <u>el `elif` (abreviatura de `else if`), que nos permite chequear condiciones extra si no se cumplen las anteriores</u>. Aplicando esto, el código quedaría:"
   ]
  },
  {
   "cell_type": "code",
   "execution_count": 44,
   "metadata": {
    "id": "YP7hhGObNekP"
   },
   "outputs": [
    {
     "name": "stdout",
     "output_type": "stream",
     "text": [
      "Alcanza para un solo viaje.\n",
      "En la entrada del Pabellón 1, carga al menos 23.\n"
     ]
    }
   ],
   "source": [
    "saldo_sube = 27  # pesos\n",
    "boleto_bondi = 25  # pesos\n",
    "diff = 2*boleto_bondi - saldo_sube\n",
    "\n",
    "# Si alcanza para la ida y la vuelta...\n",
    "if saldo_sube > 2*boleto_bondi:\n",
    "    print('Alcanza para dos viajes.')\n",
    "\n",
    "# Si no, si alcanza para un solo viaje...\n",
    "elif saldo_sube > boleto_bondi:\n",
    "    print('Alcanza para un solo viaje.')\n",
    "    print(f'En la entrada del Pabellón 1, carga al menos {diff}.')\n",
    "\n",
    "# Si no alcanza para nada...\n",
    "else:\n",
    "    print('No alcanza ni para un viaje.')\n",
    "    print(f'Busca un kiosco y cargale al menos {diff}.')"
   ]
  },
  {
   "cell_type": "markdown",
   "metadata": {
    "id": "kV89fRrojvcE"
   },
   "source": [
    "Por lo que la estructura completa queda:\n",
    "\n",
    "```python\n",
    "esto se ejecuta sí o sí\n",
    "\n",
    "if bool_1:\n",
    "    |esto se ejecuta\n",
    "    |si bool_1 es True\n",
    "    \n",
    "elif bool_2:\n",
    "    |esto se ejecuta\n",
    "    |si bool_1 es False\n",
    "    |pero bool_2 es True\n",
    "    \n",
    "elif bool_3:\n",
    "    |esto se ejecuta\n",
    "    |si bool_1 es False,\n",
    "    |si bool_2 es False\n",
    "    |pero bool_3 es True\n",
    "\n",
    "...(elif bool_4 etc)\n",
    "\n",
    "else:\n",
    "    |esto se ejecuta\n",
    "    |si todas las bool_n\n",
    "    |son False\n",
    "    \n",
    "esto se ejecuta sí o sí\n",
    "```\n",
    "---\n",
    "\n",
    "> 📝 **Nota sobre los bloques de código:**\n",
    ">\n",
    ">Como se mencionó arriba, las líneas de código asociadas a un mismo bloque deben poseer la misma cantidad de espacios en su indentación. **Recomendamos fuertemente usar 4 espacios para indentar** (google colaboratory por defecto pone 2 espacios al apretar `tab` pero pueden cambiarlo en la configuración del editor).\n",
    "<img src=\"https://i.imgur.com/TgUA4YK.jpeg\">"
   ]
  },
  {
   "cell_type": "markdown",
   "metadata": {
    "id": "EmZWEmltOr7B"
   },
   "source": [
    "---\n",
    "### Ejercicio 2: Semana (10 minutos)\n",
    "\n",
    "Escribir un programa que, dado un día de la semana, indique qué materias cursamos.\n",
    "\n",
    "Para esto, va a resultar conveniente:\n",
    "\n",
    "*   Crear una variable llamada `dia` que contenga un string con el día de la semana que queremos revisar. Por ejemplo `dia = 'martes'`.\n",
    "*   Utilizar sentencias `if` y `elif` para revisar los distintos casos. Por ejemplo, si `dia` es martes, entonces debería ejecutarse un `print` con las materias que cursamos ese día.\n",
    "*   *Opcional*: Si para distintos días cursan las mismas materias, el código puede volverse más compacto usando el operador lógico `or` (de \"o\" en inglés). Pueden probar ustedes, pero dejamos unos ejemplos de su uso:\n",
    "```python\n",
    "True or False  # Devuelve True\n",
    "False or False  # Devuelve False\n",
    "True or True  # Devuelve True\n",
    "```\n",
    "\n",
    "Una vez que finalicen con la actividad mostraremos un ejemplo del operador `or`.\n",
    "\n",
    "---\n",
    "\n",
    "[Ejercicios complementarios](https://colab.research.google.com/drive/1sEzfcUMp25APTYiHvspJc_YMOJ_MOxMl?usp=sharing)\n",
    "\n",
    "---"
   ]
  },
  {
   "cell_type": "markdown",
   "metadata": {
    "id": "OfVh0xDLDofr"
   },
   "source": [
    "## Listas\n",
    "\n",
    "\n",
    "Tenemos una misión, ir a la verdulería. Pero, ¿como guardamos las cosas que tenemos que comprar para acordarnos?\n",
    "\n",
    "Una forma podría ser:"
   ]
  },
  {
   "cell_type": "code",
   "execution_count": 45,
   "metadata": {
    "id": "qzrPYoDpt0Pc"
   },
   "outputs": [],
   "source": [
    "verdura1 = 'Zanahoria'\n",
    "verdura2 = 'Lechuga'\n",
    "verdura3 = 'Cebolla'\n",
    "verdura4 = 'Papa'"
   ]
  },
  {
   "cell_type": "markdown",
   "metadata": {
    "id": "M_SxuU9AuFcm"
   },
   "source": [
    "Sin embargo, la computadora no sabe que son verduras, para la computadora son simplemente 4 textos distintos, cuatro cajas a las que puede acceder y si le preguntas cual es el número de verdura, te lo dice.\n",
    "\n",
    "**¿Como podemos agruparlos de forma más eficiente?**\n",
    "\n",
    "Una manera de hacerlo es a través de una lista.\n",
    "\n",
    "Así como los strings se definen abriendo y cerrando comillas, <u>las listas se definen abriendo y cerrando corchetes. Los elementos se separan con comas</u>."
   ]
  },
  {
   "cell_type": "code",
   "execution_count": 46,
   "metadata": {
    "id": "xKTKQE08vrOn"
   },
   "outputs": [],
   "source": [
    "verduras = ['Zanahoria', 'Lechuga', 'Cebolla', 'Papa']"
   ]
  },
  {
   "cell_type": "markdown",
   "metadata": {
    "id": "8xVXkw_KqSRe"
   },
   "source": [
    "<img src=\"https://i.imgur.com/zSjXWe9.png\">\n",
    "\n",
    "<u>Cada elemento en la lista tiene un índice que hace referencia a su posición en la lista.</u>\n",
    "\n",
    "¿Cuál es el primer elemento? ¿Cómo nos referimos a él?\n",
    "\n",
    "En Python se empieza a numerar desde el 0. En este caso el primer elemento de la lista de verduras es \"Zanahoria\"."
   ]
  },
  {
   "cell_type": "code",
   "execution_count": 47,
   "metadata": {
    "id": "tZ-WF0qyKXBM"
   },
   "outputs": [
    {
     "data": {
      "text/plain": [
       "'Zanahoria'"
      ]
     },
     "execution_count": 47,
     "metadata": {},
     "output_type": "execute_result"
    }
   ],
   "source": [
    "verduras[0]  # Pedimos el primer elemento de la lista"
   ]
  },
  {
   "cell_type": "markdown",
   "metadata": {
    "id": "vg9bn-vCqrDY"
   },
   "source": [
    "Con los corchetes nos podemos referir a cualquier elemento de la lista."
   ]
  },
  {
   "cell_type": "code",
   "execution_count": 48,
   "metadata": {
    "id": "t2bRD6OkqxLq"
   },
   "outputs": [
    {
     "name": "stdout",
     "output_type": "stream",
     "text": [
      "Lechuga\n"
     ]
    }
   ],
   "source": [
    "print(verduras[1])  # Pedimos el segundo elemento de la lista"
   ]
  },
  {
   "cell_type": "markdown",
   "metadata": {
    "id": "hSyzMefmM8H2"
   },
   "source": [
    "Tambien podemos empezar a contar de atrás para adelante. El último elemento de la lista tiene indice -1, el anteúltimo -2 y así.\n",
    "\n",
    "Es decir, tenemos dos formas de referirnos a un elemento de la lista."
   ]
  },
  {
   "cell_type": "code",
   "execution_count": 49,
   "metadata": {
    "id": "sQWXPHA_q0wM"
   },
   "outputs": [
    {
     "name": "stdout",
     "output_type": "stream",
     "text": [
      "Papa\n",
      "Papa\n"
     ]
    }
   ],
   "source": [
    "print(verduras[3])  # Pedimos el cuarto elemento de la lista\n",
    "\n",
    "print(verduras[-1])  # Pedimos el último elemento de la lista"
   ]
  },
  {
   "cell_type": "markdown",
   "metadata": {
    "id": "W3NgXkalrh88"
   },
   "source": [
    "Es importante notar que las listas pueden tener elementos de **distintos tipos adentro.**\n",
    "\n",
    "Una lista puede tener cualquier tipo de variable adentro, ustedes pueden ponerle cualquier cosa, pero siempre es mejor tener todo bien organizado.\n",
    "\n",
    "También podemos guardar variables que hayamos definido antes."
   ]
  },
  {
   "cell_type": "code",
   "execution_count": 50,
   "metadata": {
    "id": "WlrutSJrrmD4"
   },
   "outputs": [
    {
     "name": "stdout",
     "output_type": "stream",
     "text": [
      "False\n",
      "Milanesa\n"
     ]
    }
   ],
   "source": [
    "comida = 'Milanesa'\n",
    "\n",
    "lista = [1.42, 22, 'Alfombra', True, comida, 'Jorge', \"1234\", 12.1, False]\n",
    "\n",
    "print(lista[-1])\n",
    "\n",
    "print(lista[4])"
   ]
  },
  {
   "cell_type": "markdown",
   "metadata": {
    "id": "XXtXw0IfAUO7"
   },
   "source": [
    "Existe una función llamada `len()` que devuelve la longitud de una lista, la cual es muy útil cuando no sabemos como es la lista con la que estamos trabajando."
   ]
  },
  {
   "cell_type": "code",
   "execution_count": 51,
   "metadata": {
    "id": "7nS_XuMsArIZ"
   },
   "outputs": [
    {
     "data": {
      "text/plain": [
       "9"
      ]
     },
     "execution_count": 51,
     "metadata": {},
     "output_type": "execute_result"
    }
   ],
   "source": [
    "len(lista)"
   ]
  },
  {
   "cell_type": "markdown",
   "metadata": {
    "id": "XiMGfV1rsNq5"
   },
   "source": [
    "### *(Para leer en casa) Operaciones aplicables a listas*"
   ]
  },
  {
   "cell_type": "markdown",
   "metadata": {
    "id": "M5LXXT6f_NXA"
   },
   "source": [
    "Veamos rápido algunas de las cosas que anduvieron haciendo.\n",
    "\n",
    "Efectivamente podemos sumar listas."
   ]
  },
  {
   "cell_type": "code",
   "execution_count": 52,
   "metadata": {
    "id": "fpcsruwBsNHK"
   },
   "outputs": [
    {
     "name": "stdout",
     "output_type": "stream",
     "text": [
      "[1, 2, 3, 4, 5, 'Milanesa', 6]\n"
     ]
    }
   ],
   "source": [
    "lista1 = [1,2,3]\n",
    "lista2 = [4,5,\"Milanesa\",6]\n",
    "\n",
    "\n",
    "lista_suma = lista1 + lista2\n",
    "\n",
    "print(lista_suma)"
   ]
  },
  {
   "cell_type": "markdown",
   "metadata": {
    "id": "nwpzjPmHsJr9"
   },
   "source": [
    "También podemos interactuar con elementos de distintas listas, por ejemplo."
   ]
  },
  {
   "cell_type": "code",
   "execution_count": 53,
   "metadata": {
    "id": "ysCQK1CLsNWt"
   },
   "outputs": [
    {
     "name": "stdout",
     "output_type": "stream",
     "text": [
      "5\n"
     ]
    }
   ],
   "source": [
    "print(lista1[0]+lista2[0])"
   ]
  },
  {
   "cell_type": "markdown",
   "metadata": {
    "id": "TQlmBLkH3B8v"
   },
   "source": [
    "¿Podemos restar dos listas?"
   ]
  },
  {
   "cell_type": "code",
   "execution_count": 54,
   "metadata": {
    "id": "nJhMo8KB28Zl"
   },
   "outputs": [
    {
     "ename": "TypeError",
     "evalue": "unsupported operand type(s) for -: 'list' and 'list'",
     "output_type": "error",
     "traceback": [
      "\u001b[1;31m---------------------------------------------------------------------------\u001b[0m",
      "\u001b[1;31mTypeError\u001b[0m                                 Traceback (most recent call last)",
      "Cell \u001b[1;32mIn[54], line 1\u001b[0m\n\u001b[1;32m----> 1\u001b[0m lista_resta \u001b[38;5;241m=\u001b[39m \u001b[43mlista1\u001b[49m\u001b[43m \u001b[49m\u001b[38;5;241;43m-\u001b[39;49m\u001b[43m \u001b[49m\u001b[43mlista2\u001b[49m\n",
      "\u001b[1;31mTypeError\u001b[0m: unsupported operand type(s) for -: 'list' and 'list'"
     ]
    }
   ],
   "source": [
    "lista_resta = lista1 - lista2"
   ]
  },
  {
   "cell_type": "markdown",
   "metadata": {
    "id": "fR7YMtcY3Ib9"
   },
   "source": [
    "¡Nos salta un error! Lo que dice el error es que estamos usando una operación inválida, la resta, para dos listas.\n",
    "\n",
    "La computadora ve esta operación entre las listas y no sabe que hacer.\n",
    "\n",
    "Sumar es más intuitivo, Python hace lo mismo para las listas que para los strings, los concatena, los une uno pegados al otro, pero a la hora de restar, que debería hacer la computadora? Sacar los caracteres que se repitan? Poner los elementos de una lista atrás de la otra?\n",
    "\n",
    "Debido a la variedad de posibilidades, Python decide no hacer posible la operación resta entre listas."
   ]
  },
  {
   "cell_type": "code",
   "execution_count": 55,
   "metadata": {
    "id": "BOIml5A7bONR"
   },
   "outputs": [
    {
     "data": {
      "text/plain": [
       "'Milanesa napolitana'"
      ]
     },
     "execution_count": 55,
     "metadata": {},
     "output_type": "execute_result"
    }
   ],
   "source": [
    "\"Milanesa \" + \"napolitana\""
   ]
  },
  {
   "cell_type": "code",
   "execution_count": 56,
   "metadata": {
    "id": "yomINZdmdBQP"
   },
   "outputs": [
    {
     "ename": "TypeError",
     "evalue": "unsupported operand type(s) for -: 'str' and 'str'",
     "output_type": "error",
     "traceback": [
      "\u001b[1;31m---------------------------------------------------------------------------\u001b[0m",
      "\u001b[1;31mTypeError\u001b[0m                                 Traceback (most recent call last)",
      "Cell \u001b[1;32mIn[56], line 1\u001b[0m\n\u001b[1;32m----> 1\u001b[0m \u001b[38;5;124;43m\"\u001b[39;49m\u001b[38;5;124;43mMilanesa \u001b[39;49m\u001b[38;5;124;43m\"\u001b[39;49m\u001b[43m \u001b[49m\u001b[38;5;241;43m-\u001b[39;49m\u001b[43m \u001b[49m\u001b[38;5;124;43m\"\u001b[39;49m\u001b[38;5;124;43mnapolitana\u001b[39;49m\u001b[38;5;124;43m\"\u001b[39;49m\n",
      "\u001b[1;31mTypeError\u001b[0m: unsupported operand type(s) for -: 'str' and 'str'"
     ]
    }
   ],
   "source": [
    "\"Milanesa \" - \"napolitana\""
   ]
  },
  {
   "cell_type": "markdown",
   "metadata": {
    "id": "S3CVfNzsdF-_"
   },
   "source": [
    "Tampoco podemos restar un número a una lista. Nótese que si se pueden eliminar y agregar elementos a una lista a través del código, pero se hace con funciones especiales para las listas."
   ]
  },
  {
   "cell_type": "code",
   "execution_count": 57,
   "metadata": {
    "id": "93D7gPbLRrW0"
   },
   "outputs": [
    {
     "ename": "TypeError",
     "evalue": "unsupported operand type(s) for -: 'list' and 'int'",
     "output_type": "error",
     "traceback": [
      "\u001b[1;31m---------------------------------------------------------------------------\u001b[0m",
      "\u001b[1;31mTypeError\u001b[0m                                 Traceback (most recent call last)",
      "Cell \u001b[1;32mIn[57], line 1\u001b[0m\n\u001b[1;32m----> 1\u001b[0m lista_resta \u001b[38;5;241m=\u001b[39m \u001b[43mlista1\u001b[49m\u001b[43m \u001b[49m\u001b[38;5;241;43m-\u001b[39;49m\u001b[43m \u001b[49m\u001b[38;5;241;43m44\u001b[39;49m\n",
      "\u001b[1;31mTypeError\u001b[0m: unsupported operand type(s) for -: 'list' and 'int'"
     ]
    }
   ],
   "source": [
    "lista_resta = lista1 - 44"
   ]
  },
  {
   "cell_type": "markdown",
   "metadata": {
    "id": "122Le7LyRzfP"
   },
   "source": [
    "¿Podremos multiplicar una lista por otra?\n",
    "\n",
    "De nuevo, esto es algo raro de pensar. Que \"debería\" hacer la computadora si multiplicamos dos listas?\n",
    "\n",
    "Ni idea."
   ]
  },
  {
   "cell_type": "code",
   "execution_count": 58,
   "metadata": {
    "id": "bwDnJgz84fPF"
   },
   "outputs": [
    {
     "ename": "TypeError",
     "evalue": "can't multiply sequence by non-int of type 'list'",
     "output_type": "error",
     "traceback": [
      "\u001b[1;31m---------------------------------------------------------------------------\u001b[0m",
      "\u001b[1;31mTypeError\u001b[0m                                 Traceback (most recent call last)",
      "Cell \u001b[1;32mIn[58], line 1\u001b[0m\n\u001b[1;32m----> 1\u001b[0m lista_multiplicacion \u001b[38;5;241m=\u001b[39m \u001b[43mlista1\u001b[49m\u001b[38;5;241;43m*\u001b[39;49m\u001b[43mlista2\u001b[49m\n",
      "\u001b[1;31mTypeError\u001b[0m: can't multiply sequence by non-int of type 'list'"
     ]
    }
   ],
   "source": [
    "lista_multiplicacion = lista1*lista2"
   ]
  },
  {
   "cell_type": "markdown",
   "metadata": {
    "id": "OJRraZPu6Zmb"
   },
   "source": [
    "Sin embargo el error es distinto a los anteriores, no dice que no se puede multiplicar una lista por otra lista, sino que dice:\n",
    "\n",
    "\"No se puede multiplicar a la lista por un número que no sea un entero\".\n",
    "\n",
    "Veamos entonces que $\\textit{si}\\;$   podemos multiplicar por un entero a las listas y que le hace a la lista."
   ]
  },
  {
   "cell_type": "code",
   "execution_count": 59,
   "metadata": {
    "id": "gyi95MOW4jiM"
   },
   "outputs": [
    {
     "name": "stdout",
     "output_type": "stream",
     "text": [
      "[1, 2, 3, 1, 2, 3, 1, 2, 3, 1, 2, 3]\n"
     ]
    }
   ],
   "source": [
    "lista_multiplicada = [1, 2, 3]*4\n",
    "print(lista_multiplicada)"
   ]
  },
  {
   "cell_type": "code",
   "execution_count": 60,
   "metadata": {
    "id": "lGkC9yJW6-hN"
   },
   "outputs": [
    {
     "name": "stdout",
     "output_type": "stream",
     "text": [
      "['Milanesa', 'Milanesa', 'Milanesa', 'Milanesa', 'Milanesa', 'Milanesa', 'Milanesa', 'Milanesa', 'Milanesa', 'Milanesa']\n"
     ]
    }
   ],
   "source": [
    "muchas_milanesas = ['Milanesa']*10\n",
    "print(muchas_milanesas)"
   ]
  },
  {
   "cell_type": "code",
   "execution_count": 61,
   "metadata": {
    "id": "5b7RddJGCMLz"
   },
   "outputs": [
    {
     "name": "stdout",
     "output_type": "stream",
     "text": [
      "['Cerveza', 'Tofu', 'Agua', 'Milanesa', 'Milanesa', 'Milanesa', 'Doble Cola', 'Doble Cola']\n"
     ]
    }
   ],
   "source": [
    "lista_super = ['Cerveza', 'Tofu', 'Agua'] + ['Milanesa']*3 + ['Doble Cola']*2\n",
    "\n",
    "print(lista_super)"
   ]
  },
  {
   "cell_type": "markdown",
   "metadata": {
    "id": "hv0Ythfjen66"
   },
   "source": [
    "Noten que la multiplicación es lo mismo que sumar la misma lista varias veces."
   ]
  },
  {
   "cell_type": "code",
   "execution_count": 62,
   "metadata": {
    "id": "yBuufaESetJf"
   },
   "outputs": [
    {
     "name": "stdout",
     "output_type": "stream",
     "text": [
      "['Zanahoria', 'Lechuga', 'Cebolla', 'Papa', 'Zanahoria', 'Lechuga', 'Cebolla', 'Papa']\n",
      "['Zanahoria', 'Lechuga', 'Cebolla', 'Papa', 'Zanahoria', 'Lechuga', 'Cebolla', 'Papa']\n"
     ]
    }
   ],
   "source": [
    "verduras2 = verduras*2\n",
    "\n",
    "verduras3 = verduras + verduras\n",
    "\n",
    "print(verduras2)\n",
    "\n",
    "print(verduras3)"
   ]
  },
  {
   "cell_type": "markdown",
   "metadata": {
    "id": "aRdZY0RnewFb"
   },
   "source": [
    "Es decir, así como multiplicar es sumar varias veces para los números, ocurre lo mismo para las listas."
   ]
  },
  {
   "cell_type": "code",
   "execution_count": 63,
   "metadata": {
    "id": "XNNgP2Tke4Ip"
   },
   "outputs": [
    {
     "name": "stdout",
     "output_type": "stream",
     "text": [
      "4\n",
      "4\n"
     ]
    }
   ],
   "source": [
    "print(2*2) #Hacer 2x2 es agarrar el 2 y sumarle otro 2.\n",
    "\n",
    "print(2+2)"
   ]
  },
  {
   "cell_type": "markdown",
   "metadata": {
    "id": "7xJfezG0XCkz"
   },
   "source": [
    "<!-- Soy estudiante de física del futuro. Ganó Milei y solo hay dos becas doctorales en el conicet, ayudenme me estoy cagando de hambre -->"
   ]
  },
  {
   "cell_type": "markdown",
   "metadata": {
    "id": "Wnkc2vsrACUI"
   },
   "source": [
    "## `For` loops\n",
    "\n",
    "Volvamos a la lista de la verduleria."
   ]
  },
  {
   "cell_type": "code",
   "execution_count": 64,
   "metadata": {
    "id": "ZAFzx5HW_wDF"
   },
   "outputs": [],
   "source": [
    "verduras = ['Zanahoria', 'Lechuga', 'Cebolla', 'Papa']"
   ]
  },
  {
   "cell_type": "markdown",
   "metadata": {
    "id": "PopnJ08MAOt0"
   },
   "source": [
    "Como le pedimos a la computadora que nos muestre todos los elementos de la lista?\n",
    "\n",
    "Esta es una forma, pero lleva mucho trabajo para listas grandes."
   ]
  },
  {
   "cell_type": "code",
   "execution_count": 65,
   "metadata": {
    "id": "bILq5HX6AUTX"
   },
   "outputs": [
    {
     "name": "stdout",
     "output_type": "stream",
     "text": [
      "Zanahoria\n",
      "Lechuga\n",
      "Cebolla\n",
      "Papa\n"
     ]
    }
   ],
   "source": [
    "print(verduras[0])\n",
    "print(verduras[1])\n",
    "print(verduras[2])\n",
    "print(verduras[3])"
   ]
  },
  {
   "cell_type": "markdown",
   "metadata": {
    "id": "GQc9n_53AhX3"
   },
   "source": [
    "Si quisieramos hacerlo de manera más eficiente, necesitariamos una variable que vaya cambiando y pase de 0 a 1, de 1 a 2 y así hasta recorrer toda la lista.\n",
    "\n",
    "Necesitamos código que para un `n`$_{\\in \\mathbb{N}}$ perteneciente a $[0,3]$ muestre `verduras[n]`.\n",
    "\n",
    "Un ciclo `for` permite correr código muchas veces sin que tengamos que hacerlo a mano."
   ]
  },
  {
   "cell_type": "code",
   "execution_count": 66,
   "metadata": {
    "id": "sKb6P_MFCKCT"
   },
   "outputs": [
    {
     "name": "stdout",
     "output_type": "stream",
     "text": [
      "Zanahoria\n",
      "Lechuga\n",
      "Cebolla\n",
      "Papa\n"
     ]
    }
   ],
   "source": [
    "for n in range(0,4):  # Arranca desde 0 y no incluye al 4\n",
    "    print(verduras[n])"
   ]
  },
  {
   "cell_type": "code",
   "execution_count": 67,
   "metadata": {
    "id": "IdYxaSPbTwGj"
   },
   "outputs": [
    {
     "name": "stdout",
     "output_type": "stream",
     "text": [
      "El largo de la lista de verduras es: 4  \n",
      "\n",
      "Zanahoria\n",
      "Lechuga\n",
      "Cebolla\n",
      "Papa\n"
     ]
    }
   ],
   "source": [
    "print(f'El largo de la lista de verduras es: {len(verduras)}  \\n')\n",
    "\n",
    "for n in range(0, len(verduras)):\n",
    "    print(verduras[n])"
   ]
  },
  {
   "cell_type": "markdown",
   "metadata": {
    "id": "pDmSDuj7DUzE"
   },
   "source": [
    "Lo que se escribe debajo del `for` se ejecuta y luego el código vuelve al inicio, cambia el valor de `n` y se vuelve a ejecutarse y así.\n",
    "\n",
    "Es medio raro pensar que el rango es de (0,4) en vez de (0,3) pero piensenlo así:\n",
    "\n",
    "En el rango yendo de 0 a 4, la cantidad total de elementos es  `4 = índice_final - índice_inicial`, ya que no se incluye al quinto elemento (recuerden que se cuenta desde el 0)."
   ]
  },
  {
   "cell_type": "markdown",
   "metadata": {
    "id": "EUjEJjlZiio6"
   },
   "source": [
    "Además no es necesario especificar el inicio en 0, `range` lo hace por defecto. El número donde empieza el `range` es un parámetro opcional, si no le decimos nada, empieza directamente desde 0."
   ]
  },
  {
   "cell_type": "code",
   "execution_count": 68,
   "metadata": {
    "id": "6z1t_VYQigr-"
   },
   "outputs": [
    {
     "name": "stdout",
     "output_type": "stream",
     "text": [
      "0\n",
      "1\n",
      "2\n",
      "3\n"
     ]
    }
   ],
   "source": [
    "for n in range(len(verduras)):\n",
    "    print(n)"
   ]
  },
  {
   "cell_type": "markdown",
   "metadata": {
    "id": "ItLGJLBXZMOt"
   },
   "source": [
    "De la misma forma podemos llamar a `range` con tres argumentos para indicar, además del inicio y el final del intervalo, el paso de iteración:"
   ]
  },
  {
   "cell_type": "code",
   "execution_count": 69,
   "metadata": {
    "id": "_1TukvQLZqex"
   },
   "outputs": [
    {
     "name": "stdout",
     "output_type": "stream",
     "text": [
      "0\n",
      "2\n",
      "4\n",
      "6\n",
      "8\n"
     ]
    }
   ],
   "source": [
    "for par in range(0, 10, 2):\n",
    "    print(par)"
   ]
  },
  {
   "cell_type": "code",
   "execution_count": 70,
   "metadata": {
    "id": "HsGHMjy7Z980"
   },
   "outputs": [
    {
     "name": "stdout",
     "output_type": "stream",
     "text": [
      "1\n",
      "3\n",
      "5\n",
      "7\n",
      "9\n"
     ]
    }
   ],
   "source": [
    "for impar in range(1, 10, 2):\n",
    "    print(impar)"
   ]
  },
  {
   "cell_type": "markdown",
   "metadata": {
    "id": "OBFHAsq6POHt"
   },
   "source": [
    "A este proceso de recorrer los elementos de un objeto se lo llama *iterar*.\n",
    "\n",
    "Es importante recordar la indentación, como ocurría con el `if` ; siempre que haya un `:` la línea siguiente debe estar indentada.\n",
    "\n",
    "Otra manera de usar el `for` es la siguiente."
   ]
  },
  {
   "cell_type": "code",
   "execution_count": 71,
   "metadata": {
    "id": "IQ1PstdSeeeh"
   },
   "outputs": [
    {
     "name": "stdout",
     "output_type": "stream",
     "text": [
      "Zanahoria\n",
      "Lechuga\n",
      "Cebolla\n",
      "Papa\n"
     ]
    }
   ],
   "source": [
    "for elemento in verduras:\n",
    "    print(elemento)"
   ]
  },
  {
   "cell_type": "markdown",
   "metadata": {
    "id": "VxEmWGpSF8UU"
   },
   "source": [
    "En el primer caso decíamos, \"para un `n` en el `range(0,4)`, mostrame `verdura[n]`\".\n",
    "\n",
    "En este estamos diciendo \"para cada `elemento` en la lista `verduras`, mostrame el `elemento`\"  y `elemento` va a corresponder a cada una de las verduras y va cambiando."
   ]
  },
  {
   "cell_type": "markdown",
   "metadata": {
    "id": "SQL3WQjnfAob"
   },
   "source": [
    "La variable `n` o `elemento` cumplen el rol de *iterador* y en cada ciclo toman un valor de una lista/rango distinto.\n",
    "\n",
    "¿Que son `n` y `elemento`? Nunca las nombramos antes en el código, sin embargo no apareció ningún error. `elemento` no estaba definida antes de escribir el ciclo `for`, se crea en la línea `for elemento in lista:`.\n",
    "\n",
    "Pueden pensar que `elemento` es una variable que se crea igual a cuando usamos el operador `=`.\n",
    "\n",
    "Veamos además que podriamos haberle puesto cualquier nombre a `elemento ` y que podemos poner lo que queramos en una lista."
   ]
  },
  {
   "cell_type": "code",
   "execution_count": 72,
   "metadata": {
    "id": "bxn1HFxJ5pHn"
   },
   "outputs": [
    {
     "name": "stdout",
     "output_type": "stream",
     "text": [
      "1\n",
      "2\n",
      "3\n",
      "Pez\n",
      "Computadora\n",
      "True\n"
     ]
    }
   ],
   "source": [
    "lista = [1, 2, 3, \"Pez\", \"Computadora\", True]\n",
    "\n",
    "for milanesa in lista:\n",
    "    print(milanesa)"
   ]
  },
  {
   "cell_type": "markdown",
   "metadata": {
    "id": "BRtU1CSYwyYN"
   },
   "source": [
    "Otra cosa importante es que la variable queda creada luego del `for`."
   ]
  },
  {
   "cell_type": "code",
   "execution_count": 73,
   "metadata": {
    "id": "AgMZ96v3wx9m"
   },
   "outputs": [
    {
     "name": "stdout",
     "output_type": "stream",
     "text": [
      "True\n"
     ]
    }
   ],
   "source": [
    "print(milanesa)"
   ]
  },
  {
   "cell_type": "markdown",
   "metadata": {
    "id": "iasYpSqpXKyG"
   },
   "source": [
    "Ejemplo de uso:"
   ]
  },
  {
   "cell_type": "code",
   "execution_count": 74,
   "metadata": {
    "id": "d3VOnUz61_x4"
   },
   "outputs": [
    {
     "name": "stdout",
     "output_type": "stream",
     "text": [
      "55\n"
     ]
    }
   ],
   "source": [
    "lista = [1, 2, 3, 4, 5, 6, 7, 8, 9, 10]\n",
    "suma = 0\n",
    "\n",
    "for i in lista:\n",
    "    suma = suma + i\n",
    "    #suma += i # Esta es otra manera de sumar más compacta\n",
    "print(suma)"
   ]
  },
  {
   "cell_type": "markdown",
   "metadata": {
    "id": "qH28MDJzI9US"
   },
   "source": [
    "### Método `append()`\n",
    "\n",
    "Si queremos agregar un elemento a la lista y que lo haga el codigo, sin hacerlo nosotros a mano, podemos usar la función `append`, que agrega lo que le pedimos adentro de una lista."
   ]
  },
  {
   "cell_type": "code",
   "execution_count": 75,
   "metadata": {
    "id": "C0MZKszSI811"
   },
   "outputs": [
    {
     "name": "stdout",
     "output_type": "stream",
     "text": [
      "['Esponja', 'Jabon', 'Shampoo', 'Acondicionador']\n"
     ]
    }
   ],
   "source": [
    "lista = ['Esponja', 'Jabon', 'Shampoo']\n",
    "\n",
    "lista.append('Acondicionador')\n",
    "print(lista)\n"
   ]
  },
  {
   "cell_type": "markdown",
   "metadata": {
    "id": "NUI0vq17815Z"
   },
   "source": [
    "Así a primera vista no resulta de mucha utilidad, pero si estamos corriendo un código sirve muchísimo para no hacer las cosas a mano.\n",
    "\n",
    "Podemos usarlo para crear nuevas listas o agregar a listas elementos que en principio no conocemos y que calcula la computadora con el código."
   ]
  },
  {
   "cell_type": "code",
   "execution_count": 76,
   "metadata": {
    "id": "wmwEEA50jU82"
   },
   "outputs": [
    {
     "name": "stdout",
     "output_type": "stream",
     "text": [
      "[8, 10, 12, 14]\n"
     ]
    }
   ],
   "source": [
    "y = []\n",
    "\n",
    "for x in range(0,4):\n",
    "    y.append(2*x+8)\n",
    "\n",
    "print(y)"
   ]
  },
  {
   "cell_type": "markdown",
   "metadata": {
    "id": "xhIm8f_keojk"
   },
   "source": [
    "---\n",
    "\n",
    "### Ejercicio 3: 20! (10 minutos)\n",
    "\n",
    "Calcular el factorial de 20. Recordar que para un número $N$ cualquiera $N! = 1 \\times 2 \\times \\cdots \\times (N - 1) \\times N$.\n",
    "\n",
    "Usar un `for` loop para realizar este producto hasta llegar al 20. Recuerden que el `range` no incluye el último número.\n",
    "\n",
    "---\n",
    "\n",
    "[Ejercicios complementarios](https://colab.research.google.com/drive/1sEzfcUMp25APTYiHvspJc_YMOJ_MOxMl?usp=sharing)\n",
    "\n",
    "---"
   ]
  },
  {
   "cell_type": "markdown",
   "metadata": {
    "id": "a9SWkn08xJPc"
   },
   "source": [
    "## Funciones\n",
    "Ya vimos algunas funciones, como `print()`, `range()`, `type()` o `input()`.\n",
    "\n",
    "Pero supongamos que quiero una función que haga otra cosa, como calcularme el promedio entre los dos números.\n",
    "\n",
    "En este caso no conocemos ninguna función Python que haga eso, así que vamos a crearla.\n",
    "Para esto utilizamos las palabra `def` para *definir* una nueva función y `return` para indicar que *devuelva* un cierto valor."
   ]
  },
  {
   "cell_type": "code",
   "execution_count": 77,
   "metadata": {
    "id": "txVmtslhxRuW"
   },
   "outputs": [],
   "source": [
    "def promediar_dos_numeros(num1, num2):\n",
    "    suma = num1 + num2\n",
    "    resultado = suma / 2\n",
    "    return resultado"
   ]
  },
  {
   "cell_type": "markdown",
   "metadata": {
    "id": "bWA3ADGgxUP0"
   },
   "source": [
    "de este modo **declaramos** la función _promedio_. La estructura en general es\n",
    "\n",
    "```python\n",
    "def nombre_de_la_funcion(arg_1, arg_2, arg_3, ...):\n",
    "    |bloque de código\n",
    "    |return algun_valor\n",
    "```\n",
    "\n",
    "donde _arg_1, arg_2, ..._ son los argumentos de la función.\n",
    "\n",
    "Ahora podemos **llamar** a esta función de el mismo modo que hacíamos con las demás:"
   ]
  },
  {
   "cell_type": "code",
   "execution_count": 78,
   "metadata": {
    "id": "4fh3tbcsxXwu"
   },
   "outputs": [
    {
     "name": "stdout",
     "output_type": "stream",
     "text": [
      "El promedio de 2 y 6 es 4.0\n"
     ]
    }
   ],
   "source": [
    "a = 2\n",
    "b = 6\n",
    "\n",
    "promedio = promediar_dos_numeros(a, b)  # probar remplazar con dos números, o un número y una variable.\n",
    "\n",
    "print(f\"El promedio de {a} y {b} es {promedio}\")"
   ]
  },
  {
   "cell_type": "markdown",
   "metadata": {
    "id": "XyIoVWUsxklu"
   },
   "source": [
    "Las funciones son especialmente útiles cuando queremos realizar algo muchas veces y no vale la pena arrastrar todo el código que hay detrás de la función."
   ]
  },
  {
   "cell_type": "markdown",
   "metadata": {
    "id": "l1IQEXZjxlEc"
   },
   "source": [
    "Las funciones, también, pueden devolver varios valores:"
   ]
  },
  {
   "cell_type": "code",
   "execution_count": 79,
   "metadata": {
    "id": "R11FRLlGx1Ta"
   },
   "outputs": [],
   "source": [
    "def raices_cuadradas(a, b, c):\n",
    "\n",
    "    discriminante = b**2 - 4*a*c\n",
    "\n",
    "    raiz_mas = (-b + (discriminante)**(1/2)) / (2*a)\n",
    "    raiz_menos = (-b - (discriminante)**(1/2)) / (2*a)\n",
    "\n",
    "    return raiz_mas, raiz_menos"
   ]
  },
  {
   "cell_type": "markdown",
   "metadata": {
    "id": "Qluh9ifZx6ZN"
   },
   "source": [
    "Y para acceder al resultado se separan en comas las variables de la misma forma:"
   ]
  },
  {
   "cell_type": "code",
   "execution_count": 80,
   "metadata": {
    "id": "rAC9gIC4x9S4"
   },
   "outputs": [
    {
     "name": "stdout",
     "output_type": "stream",
     "text": [
      "Las raices del polinomio son 0.5 y -2.0\n"
     ]
    }
   ],
   "source": [
    "a = 1\n",
    "b = 3/2\n",
    "c = -1\n",
    "\n",
    "raiz_1, raiz_2 = raices_cuadradas(a, b, c)\n",
    "\n",
    "print(f'Las raices del polinomio son {raiz_1} y {raiz_2}')"
   ]
  },
  {
   "cell_type": "markdown",
   "metadata": {
    "id": "g---1yS4yWAr"
   },
   "source": [
    "---\n",
    "\n",
    "### Ejercicio 4: Absoluto (10 minutos)\n",
    "\n",
    "Crear la función `absoluto` que reciba un número `x` y devuelva el valor absoluto de `x`.\n",
    "\n",
    "\\\n",
    "*Recordar:*\n",
    "$$\n",
    "\\left| x \\right| =\n",
    "\\begin{cases}\n",
    "x & \\text{si } x \\geqslant 0\\\\\n",
    "-x & \\text{si } x < 0\\\\\n",
    "\\end{cases}\n",
    "$$\n",
    "\n",
    "---\n",
    "\n",
    "[Ejercicios complementarios](https://colab.research.google.com/drive/1sEzfcUMp25APTYiHvspJc_YMOJ_MOxMl?usp=sharing)\n",
    "\n",
    "---"
   ]
  },
  {
   "cell_type": "markdown",
   "metadata": {
    "id": "JoVax7sLuPaV"
   },
   "source": [
    "### Ejercicio final: FiFa! (15 minutos)\n",
    "\n",
    "Printeen los números del 1 al 20, con las siguientes condiciones:\n",
    "\n",
    "- Cada vez que haya un múltiplo de 3 printear `Fi` en vez del número.\n",
    "- Cada vez que haya un múltiplo de 5 printear `Fa` en vez del número.\n",
    "- Cada vez que haya un múltiplo de 3 **y** de 5 printear `FiFa` en vez del número.\n",
    "\n",
    "\n",
    "\n",
    "Deberían conseguir la secuencia (pero en vertical):\n",
    "\n",
    "1,\n",
    "2,\n",
    "Fi,\n",
    "4,\n",
    "Fa,\n",
    "Fi,\n",
    "7,\n",
    "8,\n",
    "Fi,\n",
    "Fa,\n",
    "11,\n",
    "Fi,\n",
    "13,\n",
    "14,\n",
    "FiFa,\n",
    "16,\n",
    "17,\n",
    "Fi,\n",
    "19,\n",
    "Fa.\n",
    "\n",
    "\\\n",
    "*Cosas útiles para recordar:*\n",
    "- El operador `%` devuelve el **resto** de una división. Un número `a` es multiplo de otro `b` si el resto de la división `a / b` es `0`.\n",
    "- En una cadena de condicionales `elif` **solo una** condición se cumplirá.\n",
    "- Así como existe el operador entre booleanos `or` también existe el operador `and`.\n",
    "\n",
    "```python\n",
    "True and False  # Devuelve False\n",
    "False and False  # Devuelve False\n",
    "True and True  # Devuelve True\n",
    "```\n",
    "---"
   ]
  },
  {
   "cell_type": "markdown",
   "metadata": {},
   "source": [
    "## Ejercicios para practicar para la próxima\n",
    "\n",
    "[Muy recomendado](https://colab.research.google.com/drive/1qKXiHkKwbeBBPhGCV0eqY_wcA_Ir6GSk?usp=sharing)"
   ]
  },
  {
   "cell_type": "markdown",
   "metadata": {
    "id": "9pCDHA0QA8y2"
   },
   "source": [
    "## ¿Para quién programo?\n",
    "<!---Comentarios (¿¿indentación??)--->\n",
    "\n",
    "Ahora que se nos están haciendo un poco más largos los códigos, vale resaltar la importancia de la prolijidad y el orden al programar. Mas allá de la sintaxis que exige Python, si buscamos que nuestros códigos sean fáciles de corregir e útiles a largo plazo, el código tiene que ser legible por otras personas (incluyendo a ustedes en el futuro, se lo van a agradecer). Alguna de las formas de hacer esto son:\n",
    "- Ponerle nombres claros a las variables.\n",
    "- Ser consistentes con la estructura y los espaciados.\n",
    "- Dividir claramente las secciones.\n",
    "- *Comentar* el código.\n",
    "\n",
    "\n",
    "\n"
   ]
  },
  {
   "cell_type": "code",
   "execution_count": 81,
   "metadata": {
    "id": "5Ecjms1h1kqS"
   },
   "outputs": [
    {
     "name": "stdout",
     "output_type": "stream",
     "text": [
      "26\n"
     ]
    }
   ],
   "source": [
    "x = [\"Retiro\", \"Lisandro de la Torre\", \"Belgrano C\", \"Núñez\", \"Rivadavia\", \"Vicente López\", \"Olivos\", \"La Lucila\", \"Martínez\", \"Acassuso\", \"San Isidro\", \"Beccar\", \"Victoria\", \"Virreyes\", \"San Fernando\", \"Carupá\", \"Tigre\"]\n",
    "t = 0\n",
    "for i in range(x.index(\"Retiro\"),x.index(\"Virreyes\")):\n",
    "    t += 2\n",
    "print(t)"
   ]
  },
  {
   "cell_type": "code",
   "execution_count": 82,
   "metadata": {
    "id": "7F-aR-bW4GvE"
   },
   "outputs": [
    {
     "name": "stdout",
     "output_type": "stream",
     "text": [
      "Desde Retiro tardo en llegar 26 minutos a Virreyes.\n"
     ]
    }
   ],
   "source": [
    "# Este código busca calcular el tiempo que tardamos en ir de Retiro a Virreyes en el Belgrano Norte\n",
    "lista_estaciones = [\"Retiro\", \"Lisandro de la Torre\",\n",
    "                    \"Belgrano C\", \"Núñez\", \"Rivadavia\",\n",
    "                    \"Vicente López\", \"Olivos\",\"La Lucila\",\n",
    "                    \"Martínez\", \"Acassuso\", \"San Isidro\",\n",
    "                    \"Beccar\", \"Victoria\", \"Virreyes\",\n",
    "                    \"San Fernando\", \"Carupá\", \"Tigre\"]\n",
    "\n",
    "# Creamos una variable para luego contar el tiempo\n",
    "tiempo_que_tardo = 0  # minutos\n",
    "\n",
    "# Definimos las estaciones donde empezamos y hasta donde llegamos\n",
    "estacion_inicial = \"Retiro\"\n",
    "estacion_final = \"Virreyes\"\n",
    "\n",
    "# Conseguimos los índices en la lista para iterar\n",
    "indice_inicial = lista_estaciones.index(estacion_inicial)\n",
    "indice_final = lista_estaciones.index(estacion_final)\n",
    "\n",
    "# Iteramos sobre la lista para calcular el tiempo que tardamos\n",
    "for estacion in range(indice_inicial, indice_final):\n",
    "    tiempo_que_tardo += 2  # minutos\n",
    "\n",
    "# Mostramos el resultado de nuestro código con el contexto adecuado\n",
    "print(f\"Desde {estacion_inicial} tardo en llegar {tiempo_que_tardo} minutos a {estacion_final}.\")"
   ]
  },
  {
   "cell_type": "markdown",
   "metadata": {
    "id": "w6dXnzLcG7r1"
   },
   "source": [
    "## La importancia de las referencias\n",
    "Para más referencias pueden googlear. Dejamos algunas de referencia:\n",
    "\n",
    "\n",
    "## Recursos\n",
    "Para seguir profundizando con la programación en Python, ofrecemos distintos recursos\n",
    "\n",
    "* Un libro del que sacamos bastante material: https://thepythoncodingbook.com/\n",
    "\n",
    "* Un tutorial: http://www.learnpython.org/\n",
    "\n",
    "* Otro tutorial, en inglés, pero muy completo: http://learnpythonthehardway.org/book\n",
    "\n",
    "* Coursera, que nunca está de más: https://www.coursera.org/learn/interactive-python-1\n",
    "\n",
    "* Otro más: https://es.coursera.org/learn/python\n",
    "\n",
    "* Python tutor, una interfaz online para ver cómo la máquina va leyendo el código de python en programas simples: https://pythontutor.com\n",
    "\n",
    "Y por fuera del taller, seguimos en contacto.\n",
    "Tenemos un canal de Discord donde pueden hacerse consultas y otros chicos que fueron al taller antes o aprendieron por sus medios podrán responderles.\n",
    "\n",
    "Canal de Discord: https://discord.gg/bN2KeTu\n",
    "\n",
    "## Y para seguir manijeando\n",
    "Tenemos el siguiente encuentro de este taller dentro de una semana donde profundizaremos el uso de algunas herramientas clave para el análisis de datos de Laboratorio. ¡No te lo podés perder!\n",
    "\n",
    "A parte, en nuestro Github (https://github.com/fifabsas/talleresfifabsas) deberían encontrar algún material de ejemplo, con problemas de las materias de Física resueltos numéricamente, herramientas de Labo y mucho más.\n",
    "\n",
    "## Agradecimientos\n",
    "Todo esto es posible gracias al aporte de mucha gente.\n",
    "\n",
    "* Gente muy copada del DF por hacer aportes a estos talleres de diferentes maneras, desde poner su apellido en ediciones anteriores para que nos presten un labo hasta venir como invitado a un taller.\n",
    "* El Departamento de Computación que cuatrimestre a cuatrimestre nos presta los labos desinteresadamente.\n",
    "* Los estudiantes del CODEP de Física, el CECEN y mucha gente que ayuda con la difusión.\n",
    "* Pibes de la FIFA que prestan su tiempo a organizar el material y llevan a cabo el taller.\n",
    "* Todos los que se acercan y piden que estos talleres se sigan dando y nos siguen llenando los Labos. Sí ¡Gracias a todos ustedes!"
   ]
  },
  {
   "cell_type": "markdown",
   "metadata": {
    "id": "46KTO8MRb9hy"
   },
   "source": [
    "# Apéndices:"
   ]
  },
  {
   "cell_type": "markdown",
   "metadata": {
    "id": "piYVuAugG7rk"
   },
   "source": [
    "## Cómo dar formato al texto parte 2\n",
    "\n",
    "Como mencionamos antes, existen muchas formas de dar formato a los *strings*. Poder construir secuencias de caracteres a partir de código resulta muy útil para automatizar montones de tareas. Y diferentes tareas requieren distintos cuidados, por lo que si bien en general recomendamos el uso de *f-strings* (`f' textro {codigo} texto'`), no queriamos dejar de contarles que existen otras maneras de lograr construcciones similares:"
   ]
  },
  {
   "cell_type": "code",
   "execution_count": 83,
   "metadata": {
    "id": "Byaet6cPG7rl"
   },
   "outputs": [
    {
     "name": "stdout",
     "output_type": "stream",
     "text": [
      "Ejemplo 1:\n",
      "La suma de x e y es igual a 2 + 3. Que es de tipo <class 'int'>\n",
      "\n",
      "Ejemplo 2:\n",
      "La suma de x e y es igual a 2 + 3. Que es de tipo <class 'int'>\n",
      "\n",
      "Ejemplo 2 bis:\n",
      "La suma de x e y es igual a 2 + 3. Que es de tipo <class 'int'>\n",
      "\n",
      "Ejemplo 3:\n",
      "La suma de x e y es igual a 2 + 3. Que es de tipo <class 'int'>\n"
     ]
    }
   ],
   "source": [
    "x = 2\n",
    "y = 3\n",
    "\n",
    "print('Ejemplo 1:') # Ya lo vimos y es el que recomendamos en general\n",
    "# ademas, solo funciona en versiones de python >= 3.6\n",
    "print(f'La suma de x e y es igual a {x} + {y}. Que es de tipo {type(x+y)}')\n",
    "\n",
    "print('\\nEjemplo 2:')\n",
    "print('La suma de x e y es igual a {} + {}. Que es de tipo {}'.format(x, y, type(x+y)))\n",
    "\n",
    "print('\\nEjemplo 2 bis:')\n",
    "print('La suma de x e y es igual a {1} + {2}. Que es de tipo {0}'.format(type(x+y), x, y))\n",
    "\n",
    "print('\\nEjemplo 3:')\n",
    "print('La suma de x e y es igual a %d + %d. Que es de tipo %s' % (x, y, type(x+y)))\n"
   ]
  },
  {
   "cell_type": "markdown",
   "metadata": {
    "id": "1S1ZIWt1G7rl"
   },
   "source": [
    "...\n",
    "\n",
    "En el *ejemplo 1* vemos una forma muy elegante y fácil de leer que se conoce como f-string (format string).\n",
    "Esta forma está muy buena, pero sólo es compatible con las versiones de Python a partir de la 3.6, y muchas computadoras (si no están actualizadas) pueden no tener esta versión.\n",
    "\n",
    "En el *ejemplo 2* y *2 bis* vemos otra forma, también bastante concisa y elegante.\n",
    "Esta es la recomendada para programas que van a compartir con otra gente, ya que es compatible con todas las versiones de Python.\n",
    "La idea en general es poner {} donde van las variables y luego listarlas al final como argumentos del `.format()`.\n",
    "En el *bis* vemos que también es posible listarlas desordenadas y utilizar números entre las llaves para elegir el orden deseado.\n",
    "\n",
    "En el *ejemplo 3* vemos una forma un tanto distinta, donde hay que aclarar el tipo de variable con la que estamos trabajando (%d hace alusión a digit y %s a string).\n",
    "Este formato es bastante molesto de usar pero tiene la ventaja de que es común a otros muchos lenguajes de programación como C, C++ y Java.\n",
    "La idea de declarar el tipo de variable viene de lenguajes que necesitan **compilar**.\n",
    "Acá un [link](https://blog.makeitreal.camp/lenguajes-compilados-e-interpretados/) si alguien quiere adentrarse más en la diferencia entre lenguajes interpretados (Python, Javascript, ...) y lenguajes compilados (C, Fortran, ...).\n",
    "\n",
    "Aclaración: vemos un `\\n` en algunos de los textos.\n",
    "Estos simplemente lo que hace es poner una linea en blanco en el medio.\n",
    "Si lo probás por cuenta propia rápidamente vas a entender cómo funciona."
   ]
  },
  {
   "cell_type": "markdown",
   "metadata": {
    "id": "MfTI7mcWkq0Y"
   },
   "source": [
    "## Slices y `len()`\n",
    "\n",
    "La función `len()` da la longitud de una lista y puede ser de mucha utilidad para controlar que el código actúe teniendo en cuenta la longitud de la lista."
   ]
  },
  {
   "cell_type": "code",
   "execution_count": 84,
   "metadata": {
    "id": "D6mACV_Hk7CM"
   },
   "outputs": [
    {
     "name": "stdout",
     "output_type": "stream",
     "text": [
      "8\n"
     ]
    }
   ],
   "source": [
    "lista = ['Manchester City', 'Arsenal', 'Argentina', 'Uruguay','Milanesa', 42, 2010, 28072061]\n",
    "\n",
    "print(len(lista))"
   ]
  },
  {
   "cell_type": "markdown",
   "metadata": {
    "id": "XI8-Zot2lj88"
   },
   "source": [
    "Si no nos importa una parte de la lista o queremos segmentar una lista, podemos partirla con un $\\textit{slice}$.\n",
    "\n",
    "Supongamos que no queremos la parte de los equipos de fútbol, es decir, queremos los elementos a partir del tercero hasta el último.\n",
    "\n",
    "Entonces podemos escribir:"
   ]
  },
  {
   "cell_type": "code",
   "execution_count": 85,
   "metadata": {
    "id": "_Y5Tde7wmTAg"
   },
   "outputs": [
    {
     "name": "stdout",
     "output_type": "stream",
     "text": [
      "['Argentina', 'Uruguay', 'Milanesa', 42, 2010, 28072061]\n"
     ]
    }
   ],
   "source": [
    "lista_nueva = lista[2:8]  #Tengan en cuenta que es hasta el octavo elemento SIN INCLUIR\n",
    "\n",
    "print(lista_nueva)"
   ]
  },
  {
   "cell_type": "markdown",
   "metadata": {
    "id": "JuoeegBO62ad"
   },
   "source": [
    "Ahora supongamos que tampoco queremos la parte de los números."
   ]
  },
  {
   "cell_type": "code",
   "execution_count": 86,
   "metadata": {
    "id": "tJTKRsBcmiPk"
   },
   "outputs": [
    {
     "name": "stdout",
     "output_type": "stream",
     "text": [
      "['Argentina', 'Uruguay', 'Milanesa']\n"
     ]
    }
   ],
   "source": [
    "lista_nueva = lista[2:5]\n",
    "\n",
    "print(lista_nueva)"
   ]
  },
  {
   "cell_type": "markdown",
   "metadata": {
    "id": "tgdpibZompHv"
   },
   "source": [
    "Es decir, el $\\textit{slice}$ toma dos valores, el valor en el que $\\textit{iniciamos}$ la lista y el valor en el que $\\textit{terminamos}$ la lista, sin incluir el último elemento.\n",
    "\n",
    "Si se fijan, `\"Milanesa\"` es el quinto elemento de la lista, por lo que le corresponde el índice 4."
   ]
  },
  {
   "cell_type": "code",
   "execution_count": 87,
   "metadata": {
    "id": "vdYapucpnZaa"
   },
   "outputs": [
    {
     "data": {
      "text/plain": [
       "'Milanesa'"
      ]
     },
     "execution_count": 87,
     "metadata": {},
     "output_type": "execute_result"
    }
   ],
   "source": [
    "lista[4]"
   ]
  },
  {
   "cell_type": "markdown",
   "metadata": {
    "id": "uLOC8wckngn6"
   },
   "source": [
    "Si no especificamos uno de los dos índices la lista cortada toma todo el resto de valores, ya sea que no especifiquemos el principio o el final."
   ]
  },
  {
   "cell_type": "code",
   "execution_count": 88,
   "metadata": {
    "id": "pNWJZKzonupK"
   },
   "outputs": [
    {
     "name": "stdout",
     "output_type": "stream",
     "text": [
      "['Argentina', 'Uruguay', 'Milanesa', 42, 2010, 28072061]\n"
     ]
    }
   ],
   "source": [
    "lista_nueva = lista[2:]\n",
    "\n",
    "print(lista_nueva)"
   ]
  },
  {
   "cell_type": "code",
   "execution_count": 89,
   "metadata": {
    "id": "JISv9iNKnwmI"
   },
   "outputs": [
    {
     "name": "stdout",
     "output_type": "stream",
     "text": [
      "['Manchester City', 'Arsenal', 'Argentina', 'Uruguay', 'Milanesa']\n"
     ]
    }
   ],
   "source": [
    "lista_nueva = lista[:5]\n",
    "\n",
    "print(lista_nueva)"
   ]
  },
  {
   "cell_type": "markdown",
   "metadata": {
    "id": "Oj3Jbin2PcTf"
   },
   "source": [
    "Los slices también pueden tomar pasos.\n",
    "\n",
    "De forma general los slices se escriben de forma general así:\n",
    "```python\n",
    "lista[inicio, final (sin incluir), paso entre elementos de la lista original]\n",
    "```\n",
    "Dejando libre el `inicio` y el `final` Python considera que se empieza desde el 0 y se termina en -1."
   ]
  },
  {
   "cell_type": "code",
   "execution_count": 90,
   "metadata": {
    "id": "gW66Vu_3P3ie"
   },
   "outputs": [
    {
     "name": "stdout",
     "output_type": "stream",
     "text": [
      "['Manchester City', 'Arsenal', 'Argentina', 'Uruguay', 'Milanesa', 42, 2010, 28072061]\n",
      "['Manchester City', 'Argentina', 'Milanesa', 2010]\n"
     ]
    }
   ],
   "source": [
    "lista_nueva = lista[ : :2] #Recorre toda la lista pero saca los pasos intermedios\n",
    "\n",
    "print(lista)\n",
    "print(lista_nueva)"
   ]
  },
  {
   "cell_type": "markdown",
   "metadata": {
    "id": "bFnF5sLVR78r"
   },
   "source": [
    "Básicamente escribir:"
   ]
  },
  {
   "cell_type": "code",
   "execution_count": 91,
   "metadata": {
    "id": "UKYn9d0EPeZZ"
   },
   "outputs": [
    {
     "name": "stdout",
     "output_type": "stream",
     "text": [
      "['Argentina', 'Milanesa', 2010]\n"
     ]
    }
   ],
   "source": [
    "lista_nueva = lista[2: :2] #Recorre la lista a partir del 2do elemento y saca los pasos intermedios\n",
    "\n",
    "print(lista_nueva)"
   ]
  },
  {
   "cell_type": "markdown",
   "metadata": {
    "id": "l3yE6xzaR95x"
   },
   "source": [
    "Es equivalente a escribir:"
   ]
  },
  {
   "cell_type": "code",
   "execution_count": 92,
   "metadata": {
    "id": "o6uL0KYbR_fU"
   },
   "outputs": [
    {
     "name": "stdout",
     "output_type": "stream",
     "text": [
      "['Manchester City', 'Arsenal', 'Argentina', 'Uruguay', 'Milanesa', 42, 2010, 28072061]\n",
      "['Argentina', 'Uruguay', 'Milanesa', 42, 2010, 28072061]\n",
      "['Argentina', 'Milanesa', 2010]\n"
     ]
    }
   ],
   "source": [
    "print(lista)\n",
    "\n",
    "lista_nueva = lista[2:] #Primero la parte y arranca del 2do elemento\n",
    "print(lista_nueva)\n",
    "\n",
    "lista_nueva_2 = lista_nueva[ : :2] #Y luego la recorre cada 2 pasos y elimina el resto\n",
    "print(lista_nueva_2)"
   ]
  },
  {
   "cell_type": "markdown",
   "metadata": {
    "id": "KBp2FCHTSfrT"
   },
   "source": [
    "Y dejamos algunos ejemplitos para que chusmeen."
   ]
  },
  {
   "cell_type": "code",
   "execution_count": 93,
   "metadata": {
    "id": "dE9jkZswQEky"
   },
   "outputs": [
    {
     "name": "stdout",
     "output_type": "stream",
     "text": [
      "['Manchester City', 'Arsenal', 'Argentina', 'Uruguay', 'Milanesa', 42, 2010, 28072061]\n",
      "['Manchester City', 'Uruguay', 2010]\n"
     ]
    }
   ],
   "source": [
    "lista_nueva = lista[0: :3]\n",
    "\n",
    "print(lista)\n",
    "print(lista_nueva)"
   ]
  },
  {
   "cell_type": "code",
   "execution_count": 94,
   "metadata": {
    "id": "-_jO2F7pQUzf"
   },
   "outputs": [
    {
     "name": "stdout",
     "output_type": "stream",
     "text": [
      "['Manchester City', 'Arsenal', 'Argentina', 'Uruguay', 'Milanesa', 42, 2010, 28072061]\n",
      "['Manchester City', 'Argentina', 'Milanesa']\n"
     ]
    }
   ],
   "source": [
    "lista_nueva = lista[ :5:2]\n",
    "print(lista)\n",
    "print(lista_nueva)"
   ]
  },
  {
   "cell_type": "markdown",
   "metadata": {
    "id": "QdPxWlyoSiY9"
   },
   "source": [
    "Los `slices` pueden ser de mucha utilidad para recortar listas y hacer distintos tipos de análisis y también como verán (o habrán visto en la segunda clase) se pueden usar para los `arrays` de `numpy` que son elementos super útiles para trabajar en física y los labos."
   ]
  },
  {
   "cell_type": "markdown",
   "metadata": {
    "id": "Nj7BcaJ0q5yi"
   },
   "source": [
    "## `While` loops con pequeñas apariciones de los módulos `time` y `random`\n",
    "\n",
    "El comando `while` (pueden pensarlo como mientras en español) permite otra forma de iterar. El `for` y el `while` en muchas situaciones son intercambiables, pero en otras no.\n",
    "\n",
    "Veamos algunas que si, repitamos algunas cosas que vimos pero ahora con un `while`.\n",
    "\n",
    "El `while` a diferencia del for, no crea un $\\textbf{iterador}$, sino que tenemos que definirlo en el código."
   ]
  },
  {
   "cell_type": "code",
   "execution_count": 95,
   "metadata": {
    "id": "ZiFb4RmTq0wf"
   },
   "outputs": [
    {
     "name": "stdout",
     "output_type": "stream",
     "text": [
      "1\n",
      "6\n",
      "8\n",
      "9\n"
     ]
    }
   ],
   "source": [
    "lista = [1, 6, 8, 9]\n",
    "\n",
    "indice = 0 # Definimos el iterador\n",
    "\n",
    "while indice < len(lista):\n",
    "    print(lista[indice])\n",
    "\n",
    "    indice = indice + 1\n",
    "\n",
    "    #indice += 1 # Otra forma más elegante de sumar"
   ]
  },
  {
   "cell_type": "markdown",
   "metadata": {
    "id": "uzTx_e0TPVTj"
   },
   "source": [
    "El `while` que hicimos recién podemos leerlo como:\n",
    "\n",
    "\"Mientras el elemento sea menor a la longitud de la lista mostrame el elemento\"\n",
    "\n",
    "Y para ir variando el elemento lo que hacemos es"
   ]
  },
  {
   "cell_type": "code",
   "execution_count": 96,
   "metadata": {
    "id": "nKwgKqxv3ZRK"
   },
   "outputs": [
    {
     "name": "stdout",
     "output_type": "stream",
     "text": [
      "El elemento 0 de las lista es 1\n",
      "El elemento 1 de las lista es 6\n",
      "El elemento 2 de las lista es 8\n",
      "El elemento 3 de las lista es 9\n"
     ]
    }
   ],
   "source": [
    "lista = [1, 6, 8, 9]\n",
    "indice = 0 # Definimos el iterador\n",
    "\n",
    "while indice < len(lista):\n",
    "    print(f'El elemento {indice} de las lista es {lista[indice]}')\n",
    "\n",
    "    indice += 1"
   ]
  },
  {
   "cell_type": "markdown",
   "metadata": {
    "id": "FuyjqTllO6rK"
   },
   "source": [
    "También se puede usar el `range()`:"
   ]
  },
  {
   "cell_type": "code",
   "execution_count": 97,
   "metadata": {
    "id": "M59il9SiO9uQ"
   },
   "outputs": [
    {
     "name": "stdout",
     "output_type": "stream",
     "text": [
      "0\n",
      "1\n",
      "2\n",
      "3\n",
      "4\n",
      "5\n",
      "6\n",
      "7\n",
      "8\n",
      "9\n"
     ]
    }
   ],
   "source": [
    "i = 0\n",
    "rango = range(10) # Definimos el range\n",
    "\n",
    "while i < len(rango):\n",
    "    print(rango[i])\n",
    "    i = i + 1"
   ]
  },
  {
   "cell_type": "code",
   "execution_count": 98,
   "metadata": {
    "id": "fNolIHWT1rMq"
   },
   "outputs": [
    {
     "name": "stdout",
     "output_type": "stream",
     "text": [
      "Ya terminé, hice 20 trufas para llevar.\n"
     ]
    }
   ],
   "source": [
    "cantidad_de_trufas = 5 # Tengo un par de trufas hechas\n",
    "cant_maxima = 20       # Tengo que llevar una cierta cantidad de trufas para convidar en clase\n",
    "\n",
    "while cantidad_de_trufas < cant_maxima: # Sigo haciendo trufas hasta que tenga la cantidad que necesito\n",
    "    cantidad_de_trufas += 1\n",
    "\n",
    "print(f\"Ya terminé, hice {cantidad_de_trufas} trufas para llevar.\") # Usamos f-strings para escribirlo de forma canchera"
   ]
  },
  {
   "cell_type": "markdown",
   "metadata": {
    "id": "4pCVzlw3rAqx"
   },
   "source": [
    "Sirve pensar que el `for` se usa cuando conocemos la cantidad de elementos que queremos iterar mientras que el `while` se usa cuando no, pero en muchas situaciones se puede elegir cual usar (y probablemente deberían elegir el `for`).\n",
    "\n",
    "Veamos una situación en la que el `for` y el `while` no son intercambiables a simple vista (siempre nos la podemos ingeniar para que más o menos lo sean).\n",
    "\n",
    "El propósito del `for` es iterar un objeto, con tamaños fijos, como listas o diccionarios. También podría tener un tamaño indefinido el objeto y el `for` funcionaría como un generador.\n",
    "\n",
    "El propósito del `while` es correr el código hasta que se cumpla una condición, es como un `if` que se repite continuamente.\n",
    "\n",
    "Por ejemplo, veamos este ejemplo más cotidiano.\n",
    "\n",
    "Mientras llueve, deberíamos abrir un paraguas. Si ponemos un `while` el paraguas va a estar abierto hasta que el código indique que dejó de llover.\n",
    "\n",
    "El código de abajo ejemplica de alguna manera esto (**cuidado con correrlo porque se va a correr indefinidamente, ya que `llueve` nunca deja de ser verdadero**)."
   ]
  },
  {
   "cell_type": "code",
   "execution_count": 99,
   "metadata": {
    "id": "miZyCWgoRuVi"
   },
   "outputs": [
    {
     "ename": "KeyboardInterrupt",
     "evalue": "",
     "output_type": "error",
     "traceback": [
      "\u001b[1;31m---------------------------------------------------------------------------\u001b[0m",
      "\u001b[1;31mKeyboardInterrupt\u001b[0m                         Traceback (most recent call last)",
      "Cell \u001b[1;32mIn[99], line 3\u001b[0m\n\u001b[0;32m      1\u001b[0m llueve \u001b[38;5;241m=\u001b[39m \u001b[38;5;28;01mTrue\u001b[39;00m\n\u001b[1;32m----> 3\u001b[0m \u001b[38;5;28;01mwhile\u001b[39;00m llueve: \u001b[38;5;66;03m# Mientras llueve\u001b[39;00m\n\u001b[0;32m      4\u001b[0m     paraguas_abierto \u001b[38;5;241m=\u001b[39m \u001b[38;5;28;01mTrue\u001b[39;00m \u001b[38;5;66;03m# Abro el paraguas\u001b[39;00m\n",
      "\u001b[1;31mKeyboardInterrupt\u001b[0m: "
     ]
    }
   ],
   "source": [
    "llueve = True\n",
    "\n",
    "while llueve: # Mientras llueve\n",
    "    paraguas_abierto = True # Abro el paraguas"
   ]
  },
  {
   "cell_type": "markdown",
   "metadata": {
    "id": "4YbiRniNSWUT"
   },
   "source": [
    "Hagamos un ejemplo un poquitito más interesante. Hagamos ahora que llueva por algunos segundos.\n",
    "\n",
    "Importando el módulo `time`, podemos hacer que la máquina \"duerma\" y no haga nada por un tiempo, entre muchisimas más cosas con el reloj de la computadora.\n",
    "\n",
    "Importar un módulo trae funciones y demás para usar en Python que no están incluidas a priori. El módulo `time` según entiendo, está hecho por el mismo grupo que hizo Python, pero no las tiene Python de buenas a primeras porque no se usa todo el tiempo.\n",
    "\n",
    "Les dejamos la [documentación](https://docs.python.org/3/library/time.html) del módulo por si les interesa leer un poquito de esto.\n",
    "\n",
    "Prueben el siguiente código."
   ]
  },
  {
   "cell_type": "code",
   "execution_count": 100,
   "metadata": {
    "id": "YE5WKHUyuVUB"
   },
   "outputs": [],
   "source": [
    "import time #Importamos el módulo\n",
    "\n",
    "time.sleep(2) #Usamos de time la función sleep y le ponemos 2"
   ]
  },
  {
   "cell_type": "markdown",
   "metadata": {
    "id": "q6yzn5pWualf"
   },
   "source": [
    "Si todo funcionó bien el código tardó en correr pero no pasó nada especial.\n",
    "\n",
    "Veamos que hace mejor."
   ]
  },
  {
   "cell_type": "code",
   "execution_count": 101,
   "metadata": {
    "id": "NR6cKnWuuaA-"
   },
   "outputs": [
    {
     "name": "stdout",
     "output_type": "stream",
     "text": [
      "Milanesa\n",
      "Pasaron 5 segundos desde que escribí Milanesa\n"
     ]
    }
   ],
   "source": [
    "print(\"Milanesa\")\n",
    "\n",
    "time.sleep(5)\n",
    "\n",
    "print(\"Pasaron 5 segundos desde que escribí Milanesa\")"
   ]
  },
  {
   "cell_type": "markdown",
   "metadata": {
    "id": "MGM3t63tvRd2"
   },
   "source": [
    "Si se fijan ahora tardó en escribir el segundo print.\n",
    "\n",
    "`time.sleep(5)` espera 5 segundos y luego sigue corriendo el código. Claramente se puede cambiar el 5 y poner el tiempo que ustedes quieran.\n",
    "\n",
    "Ahora veamos otra función, llamada `time.time()`."
   ]
  },
  {
   "cell_type": "code",
   "execution_count": 102,
   "metadata": {
    "id": "xPu5Bqu74pGY"
   },
   "outputs": [
    {
     "data": {
      "text/plain": [
       "1756210451.9235685"
      ]
     },
     "execution_count": 102,
     "metadata": {},
     "output_type": "execute_result"
    }
   ],
   "source": [
    "time.time()"
   ]
  },
  {
   "cell_type": "markdown",
   "metadata": {
    "id": "Fox9I7xi4rH3"
   },
   "source": [
    "Así a simple vista no sabemos que hace la función, tira un número bastante alto nada más.\n",
    "\n",
    "Lo que hace `time.time()` es mostrar el tiempo que viene contando la computadora, o el módulo `time` o algo así, con el que podemos hacer referencia al tiempo que corre un programa en Python.\n",
    "\n",
    "Veamos un ejemplo."
   ]
  },
  {
   "cell_type": "code",
   "execution_count": 103,
   "metadata": {
    "id": "zXQ_0Lcj3yt_"
   },
   "outputs": [
    {
     "name": "stdout",
     "output_type": "stream",
     "text": [
      "5.002861499786377\n"
     ]
    }
   ],
   "source": [
    "tiempo_inicial = time.time() # Definimos el tiempo en que inicia el programa\n",
    "\n",
    "time.sleep(5)  # Dejamos que pasen 5 segundos\n",
    "\n",
    "tiempo_final = time.time() -tiempo_inicial # Pedimos el tiempo a time de nuevo y le restamos el anterior\n",
    "\n",
    "print(tiempo_final)"
   ]
  },
  {
   "cell_type": "markdown",
   "metadata": {
    "id": "Pgz2ZaTv4ggo"
   },
   "source": [
    "Es decir, podemos medir el tiempo con Python! Si se fijan no dió exactamentemente 5 segundos porque tarda también en ejecutar el resto de líneas de código y bueno, es muy dificil medir el tiempo de manera exacta.\n",
    "\n",
    "Prueben corriendo el código de abajo varias veces y vean como varía el resultado."
   ]
  },
  {
   "cell_type": "code",
   "execution_count": 104,
   "metadata": {
    "id": "wm1LPehr6Hyv"
   },
   "outputs": [
    {
     "name": "stdout",
     "output_type": "stream",
     "text": [
      "10\n"
     ]
    }
   ],
   "source": [
    "tiempo_inicial = time.time() # Empezamos el tiempo\n",
    "\n",
    "suma = 0 # Definimos una cantidad que vamos a sumar\n",
    "\n",
    "while time.time()-tiempo_inicial <= 5: # Pedimos que mientras el tiempo que haya pasado sea menor o igual a 5 segundos, sume 1 a la variable suma\n",
    "    suma += 1\n",
    "\n",
    "print(i)"
   ]
  },
  {
   "cell_type": "markdown",
   "metadata": {
    "id": "7dlcAyzB-3ir"
   },
   "source": [
    "Veamos otro ejemplo un poco más copado. Ahora vamos a importar el módulo `random`.\n",
    "\n",
    "Intenten correr el siguiente codigo varias veces."
   ]
  },
  {
   "cell_type": "code",
   "execution_count": 105,
   "metadata": {
    "id": "N5VO6D0U-w8r"
   },
   "outputs": [
    {
     "data": {
      "text/plain": [
       "2"
      ]
     },
     "execution_count": 105,
     "metadata": {},
     "output_type": "execute_result"
    }
   ],
   "source": [
    "import random\n",
    "\n",
    "random.randint(1,10)"
   ]
  },
  {
   "cell_type": "markdown",
   "metadata": {
    "id": "H7gej9uw_lhw"
   },
   "source": [
    "La funcion `randint` (random integer en inglés, entero aleatorio en español) del módulo `random` genera un número entero aleatorio entre los dos números enteros que le digamos.\n",
    "\n",
    "`random` así como `time` también fue hecho por los desarrolladores de Python e incluye muchísimas funciones para trabajaron números y cosas aleatorias. Les dejamos el link de la [documentación](https://docs.python.org/3/library/random.html) por si les interesa.\n",
    "\n",
    "Ahora vamos a armar un programita para jugar a intentar adivinar un número aleatorio que genera la computadora.\n",
    "\n",
    "Partamos el programa en partes. El programa tiene que:\n",
    "\n",
    "\n",
    "*   Generar un número aleatorio que el jugador tiene que adivinar.\n",
    "*   Preguntarle al jugador que número cree es el correcto.\n",
    "*   Correr código hasta que el jugador adivine el número o se le acaben los intentos.\n",
    "*   Dejar de correr el código en el caso en que el jugador adivine el número y no haya llegado al número máximo de intentos.\n",
    "\n",
    "Si tienen muchísimas ganas, pueden intentar hacerlo ustedes, aunque es muy probable que haya cosas que no se les ocurran porque no las mostramos, pero con los conocimientos de la primera clase deberían poder hacerlo (casi) todo.\n",
    "\n",
    "De todas formas lean el programa de a poquito y viendo los comentarios para intentar entenderlo."
   ]
  },
  {
   "cell_type": "code",
   "execution_count": 106,
   "metadata": {
    "id": "VfytPqTB975V"
   },
   "outputs": [
    {
     "name": "stdout",
     "output_type": "stream",
     "text": [
      "Hola, cómo te llamas?\n",
      "Bueno Fifa, estoy pensando un número entre 1 y 20.\n",
      "Intentá adivinar.\n",
      "Tu número es muy bajo.\n",
      "Intentá adivinar.\n",
      "Tu número es muy bajo.\n",
      "Intentá adivinar.\n",
      "Tu número es muy bajo.\n",
      "Intentá adivinar.\n",
      "Tu número es muy alto.\n",
      "Intentá adivinar.\n",
      "Tu número es muy alto.\n",
      "Nop, el número en el que estaba pensando era 16.\n"
     ]
    }
   ],
   "source": [
    "print(\"Hola, cómo te llamas?\")\n",
    "nombre = input() #Preguntamos por el nombre del jugador\n",
    "\n",
    "print(f\"Bueno {nombre}, estoy pensando un número entre 1 y 20.\")\n",
    "numero_a_adivinar = random.randint(1,20) #Generamos el número aleatorio que tenemos que adivinar\n",
    "\n",
    "numero_de_intento = 0 #Creamos una variable para ir contando cuantos intentos hace el jugador\n",
    "cant_intentos_max = 5  #Creamos una variable para poner la cantidad de intentos que queramos\n",
    "\n",
    "while numero_de_intento < cant_intentos_max: #Básicamente decimos que mientras el intento no sea mayor a la cantidad máxima de intentos, siga dejando adivinar al jugador\n",
    "    print(\"Intentá adivinar.\")\n",
    "\n",
    "    #Ahora le pedimos al jugador que nos tire el número que cree que es correcto\n",
    "\n",
    "    intento = int(input()) #Recuerden que input devuelve un string, hay que convertirlo en entero para compararlo con el número a adivinar\n",
    "\n",
    "    numero_de_intento += 1 #Ahora aumentamos el número de intento, que llegará hasta la cantidad máxima de intentos\n",
    "\n",
    "    #Ahora empezamos a chequear si el número aleatorio es cercano al que puso el jugador\n",
    "\n",
    "    if intento < numero_a_adivinar: #Si el número es menor le avisamos al jugador, para darle pistas\n",
    "        print(\"Tu número es muy bajo.\")\n",
    "    elif intento > numero_a_adivinar: #Si el número es mayor le avisamos al jugador\n",
    "        print(\"Tu número es muy alto.\")\n",
    "\n",
    "    #Ahora solo queda considerar el caso en que adivinaste el número, en cuyo caso los números son iguales\n",
    "\n",
    "    else: #En este caso adivinaste cual es el número aleatorio, entonces queremos que pare el ciclo\n",
    "        break #break es un comando de Python que sirve para que deje de ejecutarse un ciclo\n",
    "\n",
    "#Ahora tenemos que escribir código que diga que pasó si adivinaste el número o se te acabaron los intentos\n",
    "if intento == numero_a_adivinar: #Comparamos los números para ver si son iguales\n",
    "    print(f\"Muy bien {nombre}! Adivinaste el número en {numero_de_intento} intentos.\")\n",
    "\n",
    "else: #Este es el caso en el que se te acabaron los intentos\n",
    "    print(f\"Nop, el número en el que estaba pensando era {numero_a_adivinar}.\")"
   ]
  },
  {
   "cell_type": "markdown",
   "metadata": {
    "id": "tu5ATGv7I1y9"
   },
   "source": [
    "Este es un lindo programa que usa muchas cosas que vieron durante la primer clase del taller, exceptuando el `while` y que los motivamos a que modifiquen, mejoren, y jueguen para mostrarle a conocidxs cuanto saben de Python y vean cosas copadas que se pueden hacer con el lenguaje (si bien el juego es bastante simple).\n",
    "\n",
    "Si les parecio raro el `break` les dejamos también para que lean (busquen la palabra _break_ en la [página](https://docs.python.org/3/tutorial/controlflow.html)). Aunque quizá es medio embole que esté todo en inglés, vayan aprendiendo si no saben porque en programación y ciencia es el idioma estándar y si bien al principio de la carrera (los primeros 2 años o un poco más quizá) hay libros en español, más adelante van a haber solo en inglés y es mejor arrancar lo antes posible.\n",
    "\n",
    "Este programa no es creación propia sino que lo sacamos de un libro/curso muy copado llamado [Automate the Boring Stuff with Python](https://automatetheboringstuff.com/), que si bien no es necesariamente para cosas de física, está muy bueno y puede servir para que aprendan lo suficiente de Python como para ganar en dólares, aunque nosotros no lo hagamos :(\n",
    "\n",
    "En resumen, el `while` tiene muchos usos, entre ellos se puede usar como iterador al igual que el `for`. Sin embargo el `for` es seguramente más intuitivo y fácil de entender si se lee un código después de muuuucho tiempo sin usarlo.\n",
    "\n",
    "Una de las personas que escribió esta parte del material se pasó la mitad de la carrera usando `while` en vez de `for` y le fue dentro de todo bien, pero está fuertemente recomendado por el resto de docentes que usen el `for` para todo lo que se refiera a iterar.\n",
    "\n",
    "Como parámetro, el `for` es contenido obligatorio del curso mientras que el `while` es opcional, pero yo se los dejo a su criterio ;) **_(usen `for`)_**.\n",
    "\n"
   ]
  },
  {
   "cell_type": "markdown",
   "metadata": {
    "id": "F7Xd0ZWTYcVE"
   },
   "source": [
    "## La función `input`\n",
    "A veces, queremos que definir el valor de alguna variable sin editar nuestro código, lo cual se puede hacer con la función `input()`.\n",
    "\n",
    "Esta función toma de argumento un string para comunicar lo que requiere del usuario y **lo devuelve como un string**. Por este motivo, <u>si el código requiere otro tipo de dato, hay que convertir lo que devuelva la función `input()` al tipo de dato correcto</u> con alguna función predefinida, como `int()`, `bool()`, y `float()`. Lo vemos debajo."
   ]
  },
  {
   "cell_type": "code",
   "execution_count": 107,
   "metadata": {
    "id": "emSLouCZYcVL"
   },
   "outputs": [
    {
     "name": "stdout",
     "output_type": "stream",
     "text": [
      "<class 'str'>\n"
     ]
    }
   ],
   "source": [
    "texto = input(\"Texto: \")\n",
    "print(type(texto))"
   ]
  },
  {
   "cell_type": "code",
   "execution_count": 108,
   "metadata": {
    "id": "NdgIHAZQYcVP"
   },
   "outputs": [
    {
     "name": "stdout",
     "output_type": "stream",
     "text": [
      "<class 'str'>\n"
     ]
    }
   ],
   "source": [
    "entero = input(\"Entero: \") # correr, luego poner dentro de int()\n",
    "print(type(entero))"
   ]
  }
 ],
 "metadata": {
  "colab": {
   "collapsed_sections": [
    "XiMGfV1rsNq5"
   ],
   "provenance": []
  },
  "kernelspec": {
   "display_name": "Python 3",
   "language": "python",
   "name": "python3"
  },
  "language_info": {
   "codemirror_mode": {
    "name": "ipython",
    "version": 3
   },
   "file_extension": ".py",
   "mimetype": "text/x-python",
   "name": "python",
   "nbconvert_exporter": "python",
   "pygments_lexer": "ipython3",
   "version": "3.11.2"
  }
 },
 "nbformat": 4,
 "nbformat_minor": 0
}
