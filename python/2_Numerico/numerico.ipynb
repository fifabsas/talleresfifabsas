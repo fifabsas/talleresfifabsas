{
 "cells": [
  {
   "cell_type": "markdown",
   "metadata": {
    "id": "Y7JgKfzlPBrr"
   },
   "source": [
    "![taller_python](https://github.com/fifabsas/talleresfifabsas/blob/master/python/2_Numerico/fig/logo_fifa.png?raw=true)"
   ]
  },
  {
   "cell_type": "markdown",
   "metadata": {
    "id": "os_60KoG9612"
   },
   "source": [
    "# Taller de Python Capítulo 2:  Numérico y Laboratorio\n",
    "[Link al notebook en Google Colaboratory](https://drive.google.com/file/d/1u8YFxnN8VHMlTcJ3Rm9e1P0XWsRJww4I/view?usp=sharing)"
   ]
  },
  {
   "cell_type": "markdown",
   "metadata": {
    "id": "w5EORpIB961-"
   },
   "source": [
    "## Nuestra motivación para hoy\n",
    "De la última clase, tenemos herramientas básicas de Python que tienen muchisimas aplicaciones. Hoy vamos a ver como se puede usar Python para analizar datos de una caida libre. Digamos que en su laboratorio adquirieron los datos de la posición de una pelotita en distintos tiempos, luego de haberla soltado a una altura de 100 metros. Ahora, quieren cargar estos datos a un programa de Python, visualizarlos, y obtener el valor de la gravedad $g$.\n",
    "\n",
    "Vamos a ver algunas herramientas que nos permitirán llevar esto a cabo."
   ]
  },
  {
   "cell_type": "markdown",
   "metadata": {
    "id": "jTt04ORN961_"
   },
   "source": [
    "---\n",
    "\n",
    "## _Bibliotecas_\n",
    "Ya hemos visto la vez anterior que Python tiene varias funciones que vienen \"de fábrica\" como `help()`, `print()` así también como operaciones básicas entre números como sumar, restar, etc; también vimos que nosotros podemos crear nustras propias funciones para que hagan lo que necesitemos usando la palabra clave `def nombre_funcion`. Si uno necesita siempre realizar las mismas operaciones, reutilizará la misma función en todos sus códigos.\n",
    "\n",
    "Por ejemplo: Supongamos que uno quiere calcular `cos(x)`. Python no viene por defecto con esa operación, uno debería crear un algoritmo (es decir, una serie de acciones) que calcule el valor del cos de x (cosa que puede ser no trivial), pero es _obvio_ que alguien ya lo hizo antes, alguien ya pensó el algoritmo, lo escribió, y lo utiliza diariamente, si esta persona subió su código a internet, todos podemos aprovechar y utilizarlo sin preocuparnos en cómo hizo esta persona!! Solamente hay que decirle a Python _donde_ es que está guardado esta función. **Esta posibilidad de usar algoritmos de otros es fundamental en la programación, porque es lo que permite que nuestro problema se limite solamente a entender cómo llamar a estos algoritmos ya pensados y no tener que pensarlos cada vez**.\n",
    "\n",
    "Vamos entonces a decirle a Python que, además de sus operaciones de fábrica, queremos ampliar nuestro abanico de operaciones matemáticas en todas las opciones que aparecen dentro de la biblioteca \"math\" (una biblioteca es, tal como sugiere el nombre, un archivo con un montón de funciones, objetos y demás).\n"
   ]
  },
  {
   "cell_type": "code",
   "execution_count": null,
   "metadata": {
    "id": "AJQnKcwW962B"
   },
   "outputs": [],
   "source": [
    "import math  # Importo a mi programa todo lo que este contenido dentro del archivo \"math\""
   ]
  },
  {
   "cell_type": "markdown",
   "metadata": {
    "id": "swNFXCSM962D"
   },
   "source": [
    "Con esta linea Python entiende que queremos que traiga todo lo que está dentro del archivo \"math\"\n",
    "\n",
    "###### <span style='color:red'>OJO:</span> No todas las bibliotecas vienen instaladas por defecto, si queremos usar una muy rara es probable que tengamos que instalarla nosotros. Las que vamos a utilizar en el curso ya vienen instaladas por Google en Colaboratory o fueron instaladas automaticamente por Anaconda en su computadora.\n",
    "\n",
    "Macanudo, ahora que Python trajo esa biblioteca, nosotros podemos acceder a su contenido usando la sintaxis ```math.lo_que_haya_dentro_de_math``` por ejemplo, ```math.cos()```"
   ]
  },
  {
   "cell_type": "code",
   "execution_count": null,
   "metadata": {
    "id": "iGzP4335962E"
   },
   "outputs": [],
   "source": [
    "math.cos(0)"
   ]
  },
  {
   "cell_type": "markdown",
   "metadata": {
    "id": "Qvu3D0aN962F"
   },
   "source": [
    "Hay una infinidad de bibliotecas o librerías dando vueltas por internet. Muchas veces el problema que queremos solucionar se reduce simplemente a encontrar la librería que tenga la funcionalidad correcta.\n",
    "\n",
    "Ahora continuaremos usando una muy utilizada en nuestro ámbito, la querídisima NumPy."
   ]
  },
  {
   "cell_type": "markdown",
   "metadata": {
    "id": "Z_Zz58m6962G"
   },
   "source": [
    "## _NumPy_ : vectores, matrices y tablas de datos\n",
    "\n",
    "NumPy (NUMeric PYthon) es **LA** biblioteca para operar sobre vectores de números. Además de contener un nuevo [tipo de dato](http://docs.scipy.org/doc/numpy/reference/arrays.ndarray.html) que nos va a ser muy útil para representar vectores y matrices, nos provee de un arsenal de [funciones de todo tipo](https://docs.scipy.org/doc/numpy/reference/routines.html).\n",
    "\n",
    "Vamos a empezar por importar la bliblioteca _numpy_. La sintaxis típica de eso era `import biblio as nombre`:"
   ]
  },
  {
   "cell_type": "code",
   "execution_count": null,
   "metadata": {
    "id": "ejBOu9HQ962H"
   },
   "outputs": [],
   "source": [
    "import numpy as np  # con eso voy a poder acceder a las funciones de numpy a través de np.función()\n",
    "\n",
    "# Por ejemplo\n",
    "print(f\"El numero e = {np.e}\")\n",
    "print(f\"O el numero Pi = {np.pi}\")"
   ]
  },
  {
   "cell_type": "code",
   "execution_count": null,
   "metadata": {
    "id": "8BjIa881S-i_"
   },
   "outputs": [],
   "source": [
    "# Podemos calcular senos y cosenos de numeros igual que con math!\n",
    "print(np.sin(np.pi))  # casi cero! guarda con los floats!"
   ]
  },
  {
   "cell_type": "markdown",
   "metadata": {
    "id": "lSksN2iI962J"
   },
   "source": [
    "Todo eso está muy bien, pero lo importante de _numpy_ son los arrays numéricos, que van a ser como una lista de números pero con muchos esteroides. Los arrays numéricos nos van a servir para representar vectores (el objeto matemático de \"la tira de números\", no el físico) o columnas/tablas de datos (el objeto oriyinezco o de laboratorio).\n",
    "\n",
    "> (Ojo, los arrays no son vectores, aunque pueden comportarse como tales en muchos sentidos)\n",
    "\n",
    "La idea es que es parecido a una lista: son muchos números juntos en la misma variable y están indexados (los puedo llamar de a uno dando la posición dentro de la variable). La gran diferencia con las listas de Python es que los arrays de _numpy_ operan de la forma que todos queremos:\n",
    "1. Si sumamos o restamos dos arrays, se suman componente a componente.\n",
    "2. Si multiplicamos o dividimos dos arrays, se multiplican o dividen componente a componente.\n",
    "\n",
    "Veamos ejemplos usando la función `np.array` para crear arrays básicos."
   ]
  },
  {
   "cell_type": "code",
   "execution_count": null,
   "metadata": {
    "id": "WJ71p4br962K"
   },
   "outputs": [],
   "source": [
    "array_1 = np.array([1, 2, 3, 4])\n",
    "array_2 = np.array([5, 6, 7, 8])\n",
    "\n",
    "print(\"ARRAYS:\")\n",
    "print(f\"{array_1} + {array_2} =  {array_1 + array_2}\")\n",
    "print(f\"{array_1} * {array_2} = {array_1*array_2}\")"
   ]
  },
  {
   "cell_type": "markdown",
   "metadata": {
    "id": "EZaEuuZETcp7"
   },
   "source": [
    "En el caso de las listas esto era muy molesto"
   ]
  },
  {
   "cell_type": "code",
   "execution_count": null,
   "metadata": {
    "id": "rG7OAnYTTcLg"
   },
   "outputs": [],
   "source": [
    "lista_1 = [1, 2, 3, 4]\n",
    "lista_2 = [5, 6, 7, 8]\n",
    "\n",
    "print(\"LISTAS:\")\n",
    "print(f\"{lista_2} + {lista_1} = {lista_1 + lista_2}\")  # sumar concatena\n",
    "# print(lista_1 * lista_2) # esto ni siquiera se puede hacer!"
   ]
  },
  {
   "cell_type": "markdown",
   "metadata": {
    "id": "a5yhuml3962L"
   },
   "source": [
    "Y al igual que con las listas, uno puede acceder a elementos específicos de un array con su índice:"
   ]
  },
  {
   "cell_type": "code",
   "execution_count": null,
   "metadata": {
    "id": "RmKdobbT962M"
   },
   "outputs": [],
   "source": [
    "print(array_1[0], array_1[1], array_1[2], array_1[3])\n",
    "\n",
    "# Y más o menos vale todo lo que valía con listas\n",
    "print(array_2[-1])  # agarro al último elemento de b"
   ]
  },
  {
   "cell_type": "markdown",
   "metadata": {
    "id": "_95ieRhV962M"
   },
   "source": [
    "También podemos iterar sobre ellos con _for_ , de las mismas formas que habíamos visto para iterar listas."
   ]
  },
  {
   "cell_type": "code",
   "execution_count": null,
   "metadata": {
    "id": "bcLrdFKg962N"
   },
   "outputs": [],
   "source": [
    "# Aca itero sobre los ELEMENTOS de array_1\n",
    "print(\"array_1:\")\n",
    "for num in array_1:\n",
    "    print(num)\n",
    "\n",
    "print()\n",
    "\n",
    "# Aca itero sobre los INDICES de array_2\n",
    "print(\"array_2:\")\n",
    "for j in range(len(array_2)):\n",
    "    print(array_2[j])"
   ]
  },
  {
   "cell_type": "markdown",
   "metadata": {
    "id": "vOQhszEc962N"
   },
   "source": [
    "#### Arrays de dos dimensiones\n",
    "\n",
    "Para crear *arrays* de dos dimensiones (o más), podemos aplicar la función `np.array` sobre una *lista de listas*:"
   ]
  },
  {
   "cell_type": "code",
   "execution_count": null,
   "metadata": {
    "id": "Y7rWNeSB962O"
   },
   "outputs": [],
   "source": [
    "# Cada lista corresponde a una fila de la matriz\n",
    "\n",
    "M = np.array([[1, 2, 3], [4, 5, 6], [7, 8, 9]])\n",
    "\n",
    "print(M)"
   ]
  },
  {
   "cell_type": "markdown",
   "metadata": {
    "id": "E9IC_cd3gn2O"
   },
   "source": [
    "Aca hacer M[0] dara la primer FILA de la matrix."
   ]
  },
  {
   "cell_type": "code",
   "execution_count": null,
   "metadata": {
    "id": "OHdX7Lt5gqBE"
   },
   "outputs": [],
   "source": [
    "print(M[0])"
   ]
  },
  {
   "cell_type": "markdown",
   "metadata": {
    "id": "XPwPCK3TgxUF"
   },
   "source": [
    "Si queremos sacar la primer componente habra que hacer M[0, 0]"
   ]
  },
  {
   "cell_type": "code",
   "execution_count": null,
   "metadata": {
    "id": "OWesiGfdgx12"
   },
   "outputs": [],
   "source": [
    "print(M[0, 0])"
   ]
  },
  {
   "cell_type": "markdown",
   "metadata": {
    "id": "c5CUGdHb962P"
   },
   "source": [
    "Para facilitar la vida del usuario _numpy_ viene con un montón de rutinas de creación de arrays típicos. En particular, matrices típicas como las identidades o de todos elementos iguales a 1 o 0 y arrays con cierta cantidad de elementos entre dos números (muy útil para crear dominios para gráficos).\n",
    "\n",
    "Veamos ejemplos de esos:"
   ]
  },
  {
   "cell_type": "code",
   "execution_count": null,
   "metadata": {
    "id": "bUQe_D5K962P"
   },
   "outputs": [],
   "source": [
    "# N = 11 puntos en el rango [0, 1] con 1/(N-1) de espaciamiento\n",
    "\n",
    "equi_linspace = np.linspace(0, 1, 10)\n",
    "\n",
    "print(f'Numero de puntos fijo: {equi_linspace}')"
   ]
  },
  {
   "cell_type": "code",
   "execution_count": null,
   "metadata": {
    "id": "BPjEtNLzhHjz"
   },
   "outputs": [],
   "source": [
    "#  Elijo el paso entre [0, 1), lo que me da\n",
    "#  {0, paso, 2*paso, ... n*paso} siempre que n*paso<1\n",
    "\n",
    "equi_arange = np.arange(0, 1, 0.1)\n",
    "\n",
    "print(f'Paso entre puntos fijo: {equi_arange}')"
   ]
  },
  {
   "cell_type": "markdown",
   "metadata": {
    "id": "phT_hxAsjEcj"
   },
   "source": [
    "Otros ejemplos"
   ]
  },
  {
   "cell_type": "code",
   "execution_count": null,
   "metadata": {
    "id": "UFnRtdHb962P"
   },
   "outputs": [],
   "source": [
    "# Matriz identidad de 3x3\n",
    "identidad = np.identity(3)\n",
    "print(f'Matriz identidad:\\n{identidad}')\n",
    "print()\n",
    "\n",
    "# Matriz de todos 0 de 4x4\n",
    "ceros = np.zeros((4, 4))\n",
    "print(f'Matriz de ceros:\\n{ceros}')\n",
    "print()\n",
    "\n",
    "# Matriz de todos 1 de 2x3\n",
    "unos = np.ones((2,3))\n",
    "print(f'Matriz de unos:\\n{unos}')\n",
    "print()\n",
    "\n",
    "# Matriz con diagonal corrida de 5x5\n",
    "ojos = np.eye(5, k=1)\n",
    "print(f'Identidad corrida:\\n{ojos}')\n",
    "print()\n",
    "\n",
    "# Matriz con la diagonal que yo le doy\n",
    "diagonal = np.diag([1, 2, 3, 4])\n",
    "print(f'Matriz con diagonal cualquiera:\\n{diagonal}')"
   ]
  },
  {
   "cell_type": "markdown",
   "metadata": {
    "id": "UCsbhv9z962Q"
   },
   "source": [
    "Y antes de seguir, algo que siempre puede ser útil: los arrays tienen ciertas propiedades como su _shape_ (de cuánto por cuánto) y el _dtype_ (qué tipo de cosas tiene adentro). Podemos acceder a estos datos de la siguiente manera:"
   ]
  },
  {
   "cell_type": "code",
   "execution_count": null,
   "metadata": {
    "id": "grSCuJxV962Q"
   },
   "outputs": [],
   "source": [
    "# Array de 1000 elementos\n",
    "x = np.linspace(0, 10, 1000)\n",
    "\n",
    "# ¿De qué tipos son los elementos de x?\n",
    "print(x.dtype)  # Ojo, sin paréntesis"
   ]
  },
  {
   "cell_type": "code",
   "execution_count": null,
   "metadata": {
    "id": "kCMWPo-gku6p"
   },
   "outputs": [],
   "source": [
    "# Matriz llena de 0 de 40x100\n",
    "ceros = np.zeros((40, 100))\n",
    "\n",
    "# De qué tamaño es la matriz\n",
    "print(ceros.shape)"
   ]
  },
  {
   "cell_type": "markdown",
   "metadata": {
    "id": "Ccs3GpRG962T"
   },
   "source": [
    "---\n",
    "\n",
    "### Ejercicio 0\n",
    "\n",
    "Vamos a crear los valores de tiempo y posición que uno espera para una caida libre. Para esto, vamos a necesitar un array de valores 10 equiespaciados para el tiempo $t$, desde 0 hasta 3 segundos, y luego obtener la posición en metros mediante la ecuación:\n",
    "\n",
    "$$y(t) = y_0 - \\frac{g}{2}t^2$$\n",
    "\n",
    "Donde asumimos velocidad inicial nula, $g = 9.81 \\mathrm{\\frac{m}{s^2}}$ e $y_0 = 100\\; \\mathrm{m}$. Llamar las variables de tiempo $t$ e $y$ como ```t_teorico``` e ```y_teorico``` respectivamente.\n",
    "\n",
    "Mas adelante compararemos estos valores con otros medidos en el laboratorio.\n",
    "\n",
    "**Recordar que podemos aplicar operaciones matemáticas a los _arrays_**\n",
    "\n",
    "---\n"
   ]
  },
  {
   "cell_type": "markdown",
   "metadata": {
    "id": "6E7_LMjRqycH"
   },
   "source": [
    "## Llevando los datos a Python\n",
    "Muchas veces estamos acostumbrados a guardar los datos en hojas de Excel o en las Hoja de Cálculo de Drive. Python puede leer estas hojas utilizando las librerías adecuadas, pero es más sencillo, y es mejor práctica, exportar estos archivos en CSV para luego leerlos desde ahí.\n",
    "\n",
    "##### Por qué CSV\n",
    "* El formato **CSV (Comma Separated Values)** es abierto y un estándar a la hora de guardar datos de tipo fila o columna. Guardar los datos en Excel o Drive no está mal, pero se dificulta a la hora de pasarle los archivos a un/a colega, los CSV los puede abrir cualquiera! Inclusive, se pueden abrir Excel y Drive si se busca visualizarlo mejor.\n",
    "* Con pocos datos no hay problemas de _lag_ o *crasheos*, pero si son muchos datos: _\"Microsoft Excel dejó de responder\"_ .$^1$\n",
    "\n",
    "\n",
    "Acá una imagen de cómo descargar los archivos de Drive en CSV y de cómo se ven una vez en la compu. Es solo un archivo de texto con valores separados con comas, nada místico.\n",
    "\n",
    "![](fig/export_drive_calc_to_csv.gif)\n",
    "\n",
    "$\\scriptsize\\text{1. Para archivos muchos muuuchos datos inclusive los CSV se pueden quedar corto, y para estos casos existen formatos específicos que dependen de la naturaleza de los datos.}$"
   ]
  },
  {
   "cell_type": "markdown",
   "metadata": {
    "id": "KmP_7wBqqycI"
   },
   "source": [
    "Una vez tenemos el archivo que descargamos podemos leerlo desde Python utilizando numpy. En este caso, la linea es\n",
    "```python\n",
    "data = np.loadtxt('nombre_del_archivo.csv', delimiter=',', skiprows=1, unpack=True)\n",
    "```\n",
    "\n",
    "Desglosemos esto por argumentos:\n",
    "1. El primer argumento es ubicación del archivo con la ruta respecto del archivo de Python. En este caso tenemos ambos archivos en la misma carpeta por lo que es solo el nombre.\n",
    "2. El segundo argumento, _delimiter_, recibe un _string_ que le indica a Python cómo están separados los valores en nuestro archivo. En este caso es por comas porque son archivos CSV.\n",
    "3. El tercer argumento es más opcional, y nos permite evitar que Python lea algunas lineas del archivo. En nuestro caso pusimos *1* ya que queremos evitar que lea la primera linea, que dice _\"VAR 1, VAR 2\"_.\n",
    "4. Por qué `unpack=True`\n",
    "\n",
    "    `np.loadtxt()` por defecto te da los valores exactamente como están en el CSV, por lo que en este caso nos daría 2 columnas de datos con 20 filas. Utilizando `unpack=True` trasponemos los datos para pasar las columnas a filas, de modo que la primera fila (`data[0]`) sean los datos de _VAR 1_ y la segunda fila (`data[1]`) sean los valores de _VAR 2_. Acá el código utilizando `unpack=True` y sin utilizarlo\n",
    "    \n",
    "    También podríamos importarlo sin usar el `unpack=True` y luego usar `data = np.transpose(data)`"
   ]
  },
  {
   "cell_type": "code",
   "execution_count": null,
   "metadata": {
    "id": "NORDN2qbqycI"
   },
   "outputs": [],
   "source": [
    "data = np.loadtxt('data_exp.csv', delimiter=',', skiprows=1)\n",
    "\n",
    "print(f\"Data sin unpack:\\n {data}\")\n",
    "\n",
    "print(f'Primera columna:\\n{data[0]}')"
   ]
  },
  {
   "cell_type": "code",
   "execution_count": null,
   "metadata": {
    "id": "gsqqUxYSqycJ"
   },
   "outputs": [],
   "source": [
    "data = np.loadtxt('data_exp.csv', delimiter=',', skiprows=1, unpack=True)\n",
    "\n",
    "print(f\"\\nData con unpack:\\n {data}\")\n",
    "\n",
    "print(f'Primera columna:\\n{data[0]}')"
   ]
  },
  {
   "cell_type": "markdown",
   "metadata": {
    "id": "uYoXx7Tc962T"
   },
   "source": [
    "---\n",
    "\n",
    "### Ejercicio 1\n",
    "\n",
    "Ahora vamos a cargar los datos guardados en el laboratorio, utilizando un .csv y las funcionalidades de Numpy. Guardar el tiempo y la posición en dos variables ```t_labo``` e ```y_labo```.\n",
    "\n",
    "Para cargar el archivo se pueden seguir los siguientes pasos:\n",
    "1. Descargar el archivo en este [link](https://raw.githubusercontent.com/fifabsas/talleresfifabsas/master/python/2_Numerico/data_caida_libre.csv). Pueden hacerlo con click derecho -> \"Guardar como...\"\n",
    "2. Importen el archivo data_caida_libre.csv a Python (miren el archivo para ver cuántas filas tienen que saltarse)\n"
   ]
  },
  {
   "cell_type": "markdown",
   "metadata": {
    "id": "b3UEu1FY962T"
   },
   "source": [
    "---\n",
    "## Graficar funciones"
   ]
  },
  {
   "cell_type": "markdown",
   "metadata": {
    "id": "bCKr_oN7962U"
   },
   "source": [
    "A lo largo de nuestras carreras, y de la vida, nos encontramos con información que queremos **graficar**, como por ejemplo la posición en el tiempo de la pelota que cae. Vamos a ver que con la ayuda de la biblioteca [`matplotlib`](https://matplotlib.org/) esto no es nada complicado.\n",
    "\n",
    "Esta librería es muy grande, por lo que tiene divididas sus funciones en distintos módulos. Para lo que vamos a ver en esta segunda parte nos alcanza con la sublibrería ```pyplot```. Una de las formas de importar esta librería es:\n",
    "```python\n",
    "import matplotlib.pyplot as plt\n",
    "```"
   ]
  },
  {
   "cell_type": "markdown",
   "metadata": {
    "id": "Yz7M358E962U"
   },
   "source": [
    "Podemos usar esta librería en conjunto con ```numpy``` para graficar las funciones que querramos.\n",
    "\n",
    "Veamos un ejemplo, grafiquemos la función $f(x) = \\sin(x)\\sin(20x)$ entre $0$ y $2\\pi$ (no tienen por qué entender la función, es solo el logo de [Arctic Monkeys](https://c1.staticflickr.com/7/6126/5933658807_601e0b1751_b.jpg))"
   ]
  },
  {
   "cell_type": "code",
   "execution_count": null,
   "metadata": {
    "id": "Ehsyy74X962V"
   },
   "outputs": [],
   "source": [
    "import numpy as np\n",
    "import matplotlib.pyplot as plt\n",
    "\n",
    "# Definimos la función\n",
    "def f(x):\n",
    "    return np.sin(x)*np.sin(20*x)\n",
    "\n",
    "# Definimos el dominio y la imagen\n",
    "x = np.linspace(0, 2*np.pi, 500)\n",
    "y = f(x)\n",
    "\n",
    "# Graficamos la función\n",
    "plt.plot(x, y)\n",
    "plt.show()"
   ]
  },
  {
   "cell_type": "markdown",
   "metadata": {
    "id": "wVzheD-v962V"
   },
   "source": [
    "Desglosemos el código que acabamos de escribir:\n",
    "* Primero escribimos la función que queremos graficar.\n",
    "* Luego, definimos nuestro dominio `x` y nuestra imagen `y`.\n",
    "* Y por último usamos la función de `plot` de `matplotlib.pyplot` para graficar `y` en función de `x`.\n",
    "\n",
    "**Aclaración 1: plt.show():**\n",
    "Si bien esta linea no es siempre necesaria en los notebooks (como google Colab), su propósito es \"cerrar\" la figura y mostrarla.\n",
    "\n",
    "**Aclaración 2:** `y` no es una función. Sino que es un _array_ que contiene los números que resultan de aplicarle `f` a cada uno de los valores de `x`. Lo que vemos arriba parece ser una _función continua_ pero en realidad es un conjunto de punto unidos con una línea. Para visualizar mejor esto podemos hacer un gráfico que muestre explícitamente los puntos que forman el gráfico:\n"
   ]
  },
  {
   "cell_type": "code",
   "execution_count": null,
   "metadata": {
    "id": "wV8EmrWB962W"
   },
   "outputs": [],
   "source": [
    "plt.plot(x, y, '.-')\n",
    "plt.show()"
   ]
  },
  {
   "cell_type": "markdown",
   "metadata": {
    "id": "UK7dME4T962W"
   },
   "source": [
    "#### Qué hace plt.plot()?\n",
    "Esta función que parece mágica lo único que hace es tomar los vectores que le damos como inputs y graficar un punto en cada par de coordenadas $(x,y)$. Además, por defecto une estos puntos con lineas rectas. Por lo tanto, para que la función pueda hacer su trabajo, es necesario que los _array_ ```x``` e ```y``` tengan la misma longitud. Para dejar claro este concepto veamos un ejemplo con pocos puntos escritos a mano:"
   ]
  },
  {
   "cell_type": "code",
   "execution_count": null,
   "metadata": {
    "id": "X3vFYJl1962X"
   },
   "outputs": [],
   "source": [
    "coords_en_x = np.array([0, 2, 6, 8,  10])\n",
    "coords_en_y = np.array([2, 4, 6, 14, 14])\n",
    "\n",
    "plt.plot(coords_en_x, coords_en_y, 'o:r')\n",
    "plt.grid()  # Esto me deja poner una grilla detrás!\n",
    "plt.show()"
   ]
  },
  {
   "cell_type": "markdown",
   "metadata": {
    "id": "lglTUHTn962X"
   },
   "source": [
    "Vemos que los puntos que se grafican son los $(x,y)$ = $\\{(0,2);\\,(2,4);\\,(6,6);\\,(8,14);\\,(10,14)\\}$"
   ]
  },
  {
   "cell_type": "markdown",
   "metadata": {
    "id": "JIYzGyRw962X"
   },
   "source": [
    "### Dar formato y estética a los gráficos\n",
    "En los gráficos anteriores cuando usamos `plt.plot` agregamos un término opcional para cambiar el color y la forma en la que se muestran los puntos que graficamos. Si usamos `help(plt.plot)` vemos que este argumento opcional es el _[fmt]_ y que toma distintos _strings_ con los que se puede cambiar la forma en que se ve el gráfico. La estructura general es\n",
    "```python\n",
    "fmt = '[color][marker][line]'\n",
    "```\n",
    "donde _marker_ hace referencia a la forma de los puntitos y _line_ hace referencia a la forma de la linea.\n",
    "\n",
    "Los _strings_ válidos son un montón y los pueden ver en la documentación usando el _help_ o en la [documentación online](https://matplotlib.org/3.2.1/api/_as_gen/matplotlib.pyplot.plot.html) de la función.\n",
    "\n",
    "Acá dejamos algunas de las opciones para que se den una idea:\n",
    "* **color:** 'r' (rojo), 'b' (azul), 'g' (verde), 'm' (magenta), etc\n",
    "* **marker:** '.' (puntito chiquito), 'o' (punto grande), '^' (triángulo), '*' (estrella), etc\n",
    "* **line:** '-' (sólida), '--' (de a rayas), ':' (de a puntos)"
   ]
  },
  {
   "cell_type": "markdown",
   "metadata": {
    "id": "jBpAdMwPq28m"
   },
   "source": [
    "<img src=\"https://matplotlib.org/stable/_images/sphx_glr_named_colors_003_2_00x.png\" alt=\"colores_matplotlib\" width=\"600\" height=\"600\">"
   ]
  },
  {
   "cell_type": "markdown",
   "metadata": {
    "id": "EgQ5ky3bihUg"
   },
   "source": [
    "#### Título, labels y grid\n",
    "Veamos también algunas funciones que nos permiten agregar información a la figura sobre la que estamos trabajando. Veamos un ejemplo con la función de los [Arctic Monkeys](https://qph.fs.quoracdn.net/main-qimg-69d69b537bb5e7e3f21e44c36781a10d)."
   ]
  },
  {
   "cell_type": "code",
   "execution_count": null,
   "metadata": {
    "id": "z2-xCQeY962Y"
   },
   "outputs": [],
   "source": [
    "import numpy as np\n",
    "import matplotlib.pyplot as plt\n",
    "\n",
    "# Definimos la función\n",
    "def f(x):\n",
    "    return np.sin(x)*np.sin(20*x)\n",
    "\n",
    "# Definimos el dominio y la imagen\n",
    "x = np.linspace(0, 2*np.pi, 500)\n",
    "y = f(x)\n",
    "\n",
    "# Graficamos la función con linea sólida y le ponemos una etiqueta\n",
    "plt.plot(x, y, '-', label='Arctic Monkeys')\n",
    "\n",
    "# Agregamos título y etiquetamos los ejes\n",
    "plt.title('Logo de los Arctic Monkeys', fontsize=16)\n",
    "plt.xlabel('Eje de $\\hat x$')\n",
    "plt.ylabel('Eje de $\\hat y$')\n",
    "\n",
    "plt.grid()\n",
    "plt.legend(loc=\"upper right\")\n",
    "plt.show()"
   ]
  },
  {
   "cell_type": "markdown",
   "metadata": {
    "id": "dphh2LbZ962Y"
   },
   "source": [
    "La mayoría de las funciones son bastante descriptivas. Veamos solo algunas aclaraciones:\n",
    "* El _fontsize_ en el ```plt.title``` es un argumento opcional y también se puede utilizar en el ```plt.xlabel``` o ```plt.ylabel``` por ejemplo.\n",
    "* El ```plt.grid()``` agrega una grid si no exite y la elimina si existe. Si se quiere forzar a que aparezca se puede utilizar ```plt.grid(True)```\n",
    "* El ```plt.legend()``` es el que permite que se muestren los labels asociados a las lineas (en este caso es el \"Arctic Monkeys\"). Esta función tiene algunos parámetros opcionales que pueden probar como el _fontsize_ o el _loc_. (ver ```help(plt.legend)```)\n",
    "* Podemos usar $\\LaTeX$ en los labels!"
   ]
  },
  {
   "cell_type": "markdown",
   "metadata": {
    "id": "ooQ8-irSJPmC"
   },
   "source": [
    "Aca abajo dejamos una figura con los nombres de las distintas partes de una figura para que tengan a mano a la hora de googlear como cambiar cada parte. (fuente: [este libro hermoso](https://www.labri.fr/perso/nrougier/scientific-visualization.html))\n",
    "\n",
    "<img src=\"https://pbs.twimg.com/media/Cr5jxB-UkAAmvBn?format=jpg&name=medium\" alt=\"Milanesa\" width=\"600\" height=\"600\">"
   ]
  },
  {
   "cell_type": "markdown",
   "metadata": {
    "id": "edwV5lcH962Z"
   },
   "source": [
    "---\n",
    "### Ejercicio 2\n",
    "\n",
    "En la misma figura:\n",
    "* Graficar los datos cargados en las variables ```t_teorico``` e ```y_teorico```. Etiquetar los datos como 'Teorico'.\n",
    "* Graficar los datos cargados en las variables ```t_labo``` e ```y_labo```. Etiquetar los datos como 'Laboratorio'.\n",
    "* Agregar la leyenda, etiquetar los ejes y poner\n",
    "un título (pueden usar $\\LaTeX$ si conocen la syntaxis)\n",
    "\n",
    "---"
   ]
  },
  {
   "cell_type": "markdown",
   "metadata": {
    "id": "6QWAxhWX962Z"
   },
   "source": [
    "### Hacer ajustes\n",
    "\n",
    "Vamos a levantar nuevamente unos datos para graficarlos igual que lo hacíamos antes."
   ]
  },
  {
   "cell_type": "code",
   "execution_count": null,
   "metadata": {
    "id": "4bUI5T2x962Z"
   },
   "outputs": [],
   "source": [
    "import numpy as np\n",
    "import matplotlib.pyplot as plt\n",
    "\n",
    "# Importamos los datos\n",
    "data = np.loadtxt('data_exp.csv', delimiter=',', skiprows=1, unpack=True)\n",
    "\n",
    "# Los ponemos en variables\n",
    "tiempo = data[0]\n",
    "num_conejos = data[1]\n",
    "err_num_conejos = data[2]\n",
    "\n",
    "# O lo que es lo mismo\n",
    "tiempo, num_conejos, err_num_conejos = data"
   ]
  },
  {
   "cell_type": "code",
   "execution_count": null,
   "metadata": {
    "id": "86bRsQNApOK9"
   },
   "outputs": [],
   "source": [
    "# Graficamos los datos crudos\n",
    "plt.plot(tiempo, num_conejos, 'ok', label='Datos')\n",
    "\n",
    "# Labels, grilla, leyenda y show\n",
    "plt.xlabel(\"Tiempo\")\n",
    "plt.ylabel(\"Número de conejos\")\n",
    "plt.grid()\n",
    "plt.legend()\n",
    "plt.show()"
   ]
  },
  {
   "cell_type": "markdown",
   "metadata": {
    "id": "mgs3Wau4962a"
   },
   "source": [
    "Los datos parecen tener un comportamiento exponencial. Queremos ver que tan exponencial es su distribución realizando un ajuste. Realizamos un ajuste primero definiendo la función que queremos comparar a los datos, $f$, con los parametros libres que nos interesa determinar,\n",
    "$$\n",
    "\\text{variable dependiente} = f(\\text{variable independiente}, \\text{parametros a determinar}).\n",
    "$$\n",
    "\n",
    "En este caso, vamos a intentar con:\n",
    "$$\n",
    "f(t, A, C) = Ae^{Ct}\n",
    "$$\n",
    "\n",
    "Luego, para realizar un ajuste podemos usar la función ```curve_fit()``` que nos ofrece la librería/sublibrería ```scipy.optimize```. Veamos cómo funciona con un ejemplo:"
   ]
  },
  {
   "cell_type": "code",
   "execution_count": null,
   "metadata": {
    "id": "KtuTMK_vDXh5"
   },
   "outputs": [],
   "source": [
    "# Importo la función desde la librería\n",
    "from scipy.optimize import curve_fit\n",
    "\n",
    "# Declaro la función con la que quiero ajustar con parámetros genéricos\n",
    "def f_ajuste(t, A, C):\n",
    "    exponencial = A*np.exp(C*t)\n",
    "    return exponencial\n",
    "\n",
    "# Utilizo curve_fit() para el ajuste\n",
    "popt, pcov = curve_fit(f_ajuste, tiempo, num_conejos, sigma=err_num_conejos, absolute_sigma=True)\n",
    "\n",
    "# Imprimo en pantalla los valores de popt y pcov\n",
    "print(f'Parámetros óptimos para A y C (popt): {popt}')\n",
    "print(f'\\nMatriz de covariancia de popt (pcov):\\n{pcov}')"
   ]
  },
  {
   "cell_type": "code",
   "execution_count": null,
   "metadata": {
    "id": "jPwdMZAGDoGW"
   },
   "outputs": [],
   "source": [
    "# Graficamos los DATOS con el error asociado\n",
    "plt.errorbar(tiempo, num_conejos, yerr=err_num_conejos, fmt='ok', label='Datos',\n",
    "             capsize=2, capthick=1)\n",
    "\n",
    "\n",
    "# Graficamos el AJUSTE\n",
    "A, C = popt\n",
    "# Variables finas para evaluar la funcion en más puntos que los medidos\n",
    "x_ajuste = np.linspace(min(tiempo), max(tiempo), 1000)\n",
    "y_ajuste = f_ajuste(x_ajuste, A, C)\n",
    "\n",
    "plt.plot(x_ajuste, y_ajuste, '-r', label='Ajuste')\n",
    "\n",
    "\n",
    "# Labels, grilla, leyenda y show\n",
    "plt.xlabel(\"Tiempo\")\n",
    "plt.ylabel(\"Número de conejos\")\n",
    "plt.grid()\n",
    "plt.legend()\n",
    "plt.show()"
   ]
  },
  {
   "cell_type": "markdown",
   "metadata": {
    "id": "L0-YsLe1962a"
   },
   "source": [
    "##### Vemos que arriba la función recibe cinco inputs (3 obligatorios y 2 opcionales):\n",
    "* `f`: **El primer argumento es la función _modelo_ con la que queremos ajustar.**\n",
    "    \n",
    "    La función modelo tiene que tener como primer parámetro la variable independiente (que corresponde por ejemplo al eje $\\hat x$). Luego se usan los otros parámetros para poner las constantes que queremos hallar (en nuestro caso `A` y `C`).\n",
    "\n",
    "\n",
    "* `xdata, ydata`: **Los otros dos argumentos son nuestros datos**\n",
    "\n",
    "    Estos son los datos crudos, los que usamos para visualizarlos normalmente.\n",
    "    \n",
    "* `sigma`: **El error asociado a cada valor en** `ydata`\n",
    "    \n",
    "    Es un parámetro opcional, para que el ajuste considere el error en la variable $y$.\n",
    "\n",
    "\n",
    "##### Outputs de `curve_fit()`\n",
    "* `popt`: **Parámetros Óptimos (`array 1D` de numpy)**\n",
    "    \n",
    "    Vemos que `curve_fit()` nos devuelve como primer parámetro una lista con los valores óptimos para nuestro ajuste. En este caso son dos porque en la función modelo pusimos dos constantes (`A` y `C`). Estos valores vienen ordenados del mismo modo que están en la función modelo por lo que `popt[0]` es el `A` óptimo y `popt[1]` es el `C` óptimo.\n",
    "\n",
    "\n",
    "* `pcov`: **Covarianza de los Parámetros (`array 2D` de numpy)**\n",
    "    \n",
    "    Esta es la matriz de covarianza de los resultados que nos da `popt`. Esta matriz nos da una idea de cuál es el error de este ajuste y de cuán ligados están estos errores entre sí. No es el objetivo del curso dar una clase de estadísitica, pero si conocemos que las variables son independientes podemos obtener el error de nuestros parámetros de ajuste como la raíz cuadrada de la covarianza. Para este ejemplo sería\n",
    "    ```python\n",
    "    err_A = np.sqrt(pcov[0,0])\n",
    "    err_C = np.sqrt(pcov[1,1])\n",
    "    ```\n",
    "    o\n",
    "    ```python\n",
    "    err_A, err_C = np.sqrt(np.diag(pcov))\n",
    "    ```\n",
    "\n",
    "**Una cosita más:** En este caso pusimos `var_x_ajuste = var_x` al momento de graficar, lo que implica que nuestro grafico del ajuste tiene 20 puntos (los mismos que `var_x`), pero como conocemos la función podríamos hacer un linspace del estilo `np.linspace(min(var_x), max(var_x), 1000)` para tener una mejor densidad de puntos. Esto esta bueno para hacer que los gráficos se vean menos acartonados, pero SOLAMENTE se puede usar a la hora de graficar."
   ]
  },
  {
   "cell_type": "markdown",
   "metadata": {
    "id": "ITpYWJC3962b"
   },
   "source": [
    "#### Barras de error\n",
    "\n",
    "* Si queremos poner barras de error a nuestro gráfico podemos usar ```plt.errorbar()```, que funciona de forma muy similar a ```plt.plot()``` pero nos permite dar un array con los errores o un error constante para todos.\n",
    "\n",
    "#### Guardar un gráfico\n",
    "Una vez tenemos un gráfico podemos guardarlo en el mismo directorio donde tenemos el archivo con el que estamos trabajando utilizando la linea\n",
    "```python\n",
    "plt.savefig('nombre_del_archivo.png')\n",
    "```"
   ]
  },
  {
   "cell_type": "markdown",
   "metadata": {
    "id": "9RLsaOc1962b"
   },
   "source": [
    "---\n",
    "### Ejercicio 3\n",
    "\n",
    "Con los datos levantados en las variables ```t_labo``` e ```y_labo```, realizar el ajuste de la función:\n",
    "\n",
    "$$y(t) = a + b \\; t^2$$\n",
    "\n",
    "Donde $a = y_0$ y $b = -\\frac{g}{2}$.\n",
    "\n",
    "Agregar al gráfico del Ejercicio 3 este nuevo ajuste, junto con su label 'Ajuste'.\n",
    "\n",
    "Guardar la imagen, e imprimir la gravedad en pantalla con su error.\n",
    "\n",
    "---"
   ]
  },
  {
   "cell_type": "markdown",
   "metadata": {
    "id": "37lw9cFC962d"
   },
   "source": [
    "### Acá termina nuestra clase.\n",
    "\n",
    "Si aún hay tiempo abajo tenemos armado algunos párrafos sobre distintas cosas piolas que podemos hacer. La elección esta en ustedes. (Si, se convirtió en un elija su propia aventura, no se la esperaba nadie esa)\n",
    "\n",
    "* Pandas y DataFrames\n",
    "* Histogramas\n",
    "* Sistemas de ecuaciones diferenciales\n",
    "* Algebra Lineal\n",
    "* Calculo Simbólico\n",
    "* Integración Numérica\n",
    "* Funciones Locas\n"
   ]
  },
  {
   "cell_type": "markdown",
   "metadata": {
    "id": "HcgRMSPQ962d"
   },
   "source": [
    "---\n",
    "# Pandas y DataFrames\n",
    "\n",
    "[Pandas](https://pandas.pydata.org/) es una librería bastante utilizada para Análisis de Datos y tiene [demasiadas](https://pandas.pydata.org/docs/user_guide/index.html) cosas disponibles, demasiadas. Aca en el curso no vamos a cubrir casi nada, sólo veremos algunas cosas.\n",
    "\n",
    "Pandas, tal como NumPy y SymPy, trae un nuevo tipo de dato muy genial, los DataFrames. Recomendado es el [tutorial](https://pandas.pydata.org/docs/getting_started/index.html) de 10 minutos que aporta la misma página de Pandas, en los que hace un paneo sobre las cosas básicas de la librería. Hay un [ejemplo práctico](https://github.com/fifabsas/talleresfifabsas/blob/master/python/Extras/Pandas_ejemplo.ipynb) hecho por la FIFA en el que se trabaja un poco los datos de inscripción de una jornada anterior del cursito este.\n",
    "\n",
    "Los DataFrames, el nuevo tipo de dato introducido, son básicamente tablas de datos donde cada columna tiene un nombre descriptivo. Podemos operar con las columnas por su nombre, y también elegir filas como haciamos con arrays antes.\n",
    "\n",
    "\n",
    "Vamos a trabajar con un csv que pueden descargar de nuestro repositorio:\n",
    "\n",
    "[Datos de los jugadores](https://github.com/fifabsas/talleresfifabsas/blob/master/python/2_Numerico/datos_jugadores.csv)"
   ]
  },
  {
   "cell_type": "code",
   "execution_count": null,
   "metadata": {
    "id": "dWDVUYHiscn9"
   },
   "outputs": [],
   "source": [
    "# Importamos pandas con un sobrenombre, como haciamos con numpy\n",
    "\n",
    "import pandas as pd\n",
    "\n",
    "import numpy as np\n",
    "import matplotlib.pyplot as plt"
   ]
  },
  {
   "cell_type": "code",
   "execution_count": null,
   "metadata": {
    "id": "MLSXXan1sik_"
   },
   "outputs": [],
   "source": [
    "# Para cargar un csv usamos read_csv() de pandas.\n",
    "# El argumento es el nombre del archivo\n",
    "df = pd.read_csv('datos_jugadores.csv')\n",
    "\n",
    "# df es un \"DataFrame\", como si fuera una tabla de Excel cargada en Python.\n",
    "\n",
    "display(df) # Display es como un \"print\" especial para cosas que no son texto."
   ]
  },
  {
   "cell_type": "code",
   "execution_count": null,
   "metadata": {
    "id": "MXZyvrqczLUs"
   },
   "outputs": [],
   "source": [
    "# Obtener cantidad de filas y columnas total:\n",
    "print(df.shape)\n",
    "\n",
    "# Obtener nombres de las columnas:\n",
    "print(df.columns)"
   ]
  },
  {
   "cell_type": "markdown",
   "metadata": {
    "id": "pxc5IhQ4tN90"
   },
   "source": [
    "Nos gustaría operar de alguna manera con esta tabla, para hacer algun tipo de análisis de los datos.\n",
    "\n",
    "Preguntas posibles:\n",
    "- Cuál es la distribución de edad/altura/año de nacimiento?\n",
    "- Cuantos jugadores de cada País/Puesto/mes de nacimiento hay?\n",
    "- Hay dos jugadores que compartan cumpleaños en un mismo equipo?"
   ]
  },
  {
   "cell_type": "markdown",
   "metadata": {
    "id": "IQ7ZnQ6VwwaM"
   },
   "source": [
    "## Cuál es la distribución de edad?\n",
    "\n",
    "Para esta pregunta vamos a armar un histograma de los valores de edad."
   ]
  },
  {
   "cell_type": "code",
   "execution_count": null,
   "metadata": {
    "id": "JF5HB7TTw4xw"
   },
   "outputs": [],
   "source": [
    "# Para seleccionar una columna usamos:\n",
    "altura = df['Altura_cm']\n",
    "\n",
    "altura.hist()"
   ]
  },
  {
   "cell_type": "code",
   "execution_count": null,
   "metadata": {
    "id": "pMGWoi9Xxd-y"
   },
   "outputs": [],
   "source": [
    "# Dejemos un poco más lindo el gráfico\n",
    "\n",
    "altura.hist(rwidth=0.9, edgecolor='black', color='lightblue')\n",
    "\n",
    "# Label de los ejes\n",
    "plt.xlabel('Altura [cm]', fontsize=13)\n",
    "plt.ylabel('Ocurrencias', fontsize=13)\n",
    "\n",
    "# Apagamos la grid que viene por defecto y despues colocamos la nuestra\n",
    "plt.grid()\n",
    "plt.grid(ls='--', axis='y', color='gray')\n",
    "\n",
    "plt.title('Distribución de altura de los jugadores')\n",
    "\n",
    "plt.show()"
   ]
  },
  {
   "cell_type": "markdown",
   "metadata": {
    "id": "3fjrpaOUx8ge"
   },
   "source": [
    "Como hacemos si queremos crear una columna nueva? Por ejemplo, el logaritmo de la altura?"
   ]
  },
  {
   "cell_type": "code",
   "execution_count": null,
   "metadata": {
    "id": "63Qh-KE6x7T0"
   },
   "outputs": [],
   "source": [
    "df['Altura_log'] = np.log(df['Altura_cm'])\n",
    "\n",
    "# Dejemos un poco más lindo el gráfico\n",
    "df['Altura_log'].hist(rwidth=0.9, edgecolor='black', color='lightblue')\n",
    "\n",
    "# Label de los ejes\n",
    "plt.xlabel('log(Altura)', fontsize=13)\n",
    "plt.ylabel('Ocurrencias', fontsize=13)\n",
    "\n",
    "# Apagamos la grid que viene por defecto y despues colocamos la nuestra\n",
    "plt.grid()\n",
    "plt.grid(ls='--', axis='y', color='gray')\n",
    "\n",
    "plt.title('Distribución de altura de los jugadores')\n",
    "\n",
    "plt.show()"
   ]
  },
  {
   "cell_type": "markdown",
   "metadata": {
    "id": "pJ_DNmFVu3hd"
   },
   "source": [
    "## Cuántos jugadores de cada pais hay?"
   ]
  },
  {
   "cell_type": "code",
   "execution_count": null,
   "metadata": {
    "id": "q4KT0Q2Vu7_C"
   },
   "outputs": [],
   "source": [
    "# Podemos usar la función groupby de pandas para agrupar todas las filas\n",
    "# con el mismo país de nacimiento.\n",
    "\n",
    "df_gb = df.groupby('Pais_nac')\n",
    "\n",
    "display(df_gb)"
   ]
  },
  {
   "cell_type": "markdown",
   "metadata": {
    "id": "zjKOnIczvLLc"
   },
   "source": [
    "Vemos que esto asi solo no nos dice absolutamente nada. Una vez que tenemos agrupado por una columna nuestro DataFrame, podemos hacer cálculos como el promedio, la suma de los valores, la cantidad de veces que aparece una fila con el valor que agrupamos, el máximo, etc. A estas se las conoce como funciones de agregación."
   ]
  },
  {
   "cell_type": "code",
   "execution_count": null,
   "metadata": {
    "id": "qqy0Cb1lvY1X"
   },
   "outputs": [],
   "source": [
    "# Para contar la cantidad de filas seleccionamos una columna cualquiera y usamos 'count'.\n",
    "\n",
    "df_gb['Equipo'].count()"
   ]
  },
  {
   "cell_type": "code",
   "execution_count": null,
   "metadata": {
    "id": "m7_DkU3AwdP4"
   },
   "outputs": [],
   "source": [
    "# Si quisieramos el máximo de altura, por ejemplo:\n",
    "\n",
    "df_gb['Altura_cm'].max()"
   ]
  },
  {
   "cell_type": "markdown",
   "metadata": {
    "id": "Smzezd51uyNC"
   },
   "source": [
    "## Hay dos jugadores que compartan cumpleaños en un mismo equipo?"
   ]
  },
  {
   "cell_type": "code",
   "execution_count": null,
   "metadata": {
    "id": "y8nQrB--s_CL"
   },
   "outputs": [],
   "source": [
    "# Para responder esto, podemos contar cuantas veces se repite\n",
    "# el mismo valor de \"Equipo\" y \"dia_mes\". Para hacer esto, podemos aprovechar\n",
    "# a usar devuelta el groupby, y contar cuantas veces está esa combinaciones\n",
    "# de valores\n",
    "\n",
    "df_gb = df.groupby(['Equipo', 'dia_mes'])['Puesto'].count()\n",
    "\n",
    "display(df_gb)"
   ]
  },
  {
   "cell_type": "code",
   "execution_count": null,
   "metadata": {
    "id": "T5RkU99ItxHE"
   },
   "outputs": [],
   "source": [
    "# Ahora podemos filtrar usando esta sintaxis\n",
    "\n",
    "df_filtered = df_gb[df_gb > 1]\n",
    "\n",
    "display(df_filtered)"
   ]
  },
  {
   "cell_type": "code",
   "execution_count": null,
   "metadata": {
    "id": "Hyd3CN5Ey4TH"
   },
   "outputs": [],
   "source": [
    "# Como hacemos un filtro un poco mas complicado?\n",
    "\n",
    "# Elijamos las personas que nacieron en Agosto, en Argentina y su altura es mayor que 150 cm\n",
    "\n",
    "df_filtered = df[(df['nro_mes'] == 8) & (df['Altura_cm'] > 150) & (df['Pais_nac'] == 'Argentina')]\n",
    "\n",
    "display(df_filtered)"
   ]
  },
  {
   "cell_type": "code",
   "execution_count": null,
   "metadata": {
    "id": "sextO4P4y6i4"
   },
   "outputs": [],
   "source": [
    "# Si quiero acceder a la fecha de nacimiento, del primer jugador de los que tenemos filtrados, como puedo hacer?\n",
    "\n",
    "# Primero el numero de fila, luego la columna a la que queremos entrar\n",
    "df_filtered.loc[0, 'dia_mes'] = 'Esto es una prueba'\n",
    "\n",
    "display(df_filtered)"
   ]
  },
  {
   "cell_type": "markdown",
   "metadata": {
    "id": "Z9ebY5arG7r1"
   },
   "source": [
    "## Lambda functions\n",
    "En Python existe otra forma de declarar funciones además de la que vimos anteriormente, que es utilizando la palabra `lambda`. La función `promediar_dos_numeros` que vimos más temprano se escribiría de la siguiente forma\n",
    "\n",
    "```python\n",
    "promedio = lambda num1, num2: (num1 + num2) / 2\n",
    "\n",
    "```\n",
    "\n",
    "Los `lambda` son funciones \"anónimas\", y fueron introducidas a Python para código que sigue un estilo de programación llamado \"funcional\". Generalmente, la idea no es asignarla a una variable, sino usarla directamente dentro de otra función. Por ejemplo, la función `filter`:\n",
    "\n",
    "```python\n",
    "pares = list(filter(lambda x: x % 2 == 0, range(10)))\n",
    "```\n",
    "\n",
    "Lo introducimos por completitud, por si se la encuentran leyendo el código de otra persona, pero lo recomendado es definir funciones \"normales\" con `def`."
   ]
  },
  {
   "cell_type": "markdown",
   "metadata": {
    "id": "TCo6ZF4g962g"
   },
   "source": [
    "---\n",
    "\n",
    "# Histogramas\n",
    "\n",
    "Una cosita más que nos va a ser útil a la hora de dejar el Oriyin sin instalar es poder hacer histogramas. Con _pyplot_ eso lo podemos obtener de la función _hist_.\n",
    "\n",
    "Recordemos que en un histograma dividimos una serie de datos en rangos y contamos cuántos de nuestros datos caen en cada rango. A esos rangos se los llama _bins_.\n",
    "\n",
    "_hist_ toma como argumentos un array de números, en cuántos _bins_ queremos dividir a nuestro eje x y algunas otras opciones de color como constante de normalización y color de las barras.\n",
    "\n",
    "Hagamos un histograma simple de un set gaussiano. Para eso, creemos datos sintéticos usando ```random.normal``` de _NumPy_ . Esto de crear datos lo hacemos acá a modo de ejemplo, en la vida real uno importaria algun dataset de las formas que ya hemos visto."
   ]
  },
  {
   "cell_type": "code",
   "execution_count": null,
   "metadata": {
    "id": "KQj6HJf1962h"
   },
   "outputs": [],
   "source": [
    "import numpy as np\n",
    "import matplotlib.pyplot as plt\n",
    "\n",
    "# Distribución gaussiana centrada en 100, con 15 de desviación estándar\n",
    "data = np.random.normal(100, 15, 2000)\n",
    "\n",
    "n, bins, patches = plt.hist(data, bins=20, edgecolor='black', facecolor='royalblue', alpha=0.75)\n",
    "# n la variable n se encuentran los datos del histograma\n",
    "# bins es un vector con los bordes de los rangos de datos\n",
    "# patches no nos interesa en general\n",
    "\n",
    "# OBS1: Si no saben qué cantidad de bines elegir, pueden dejarle la\n",
    "# eleccion a matplotlib, usando: bins='auto'\n",
    "\n",
    "# OBS2: Si quieren forzar bines específicos, pueden pasarle un array o lista\n",
    "# con los comienzos de cada bin. Ej:\n",
    "#\n",
    "#    Esto da bines de ancho 0.1:\n",
    "#    bins = [1, 1.1, 1.2, 1.3, 1.4, 1.5]\n",
    "#\n",
    "#    Indistintamente pueden usar cosas que ya vimos para generar ararys:\n",
    "#    bins = np.arange(1, 1.6, 0.1)\n",
    "\n",
    "print(f'n:\\n{n}\\n')\n",
    "print(f'bins:\\n{bins}')"
   ]
  },
  {
   "cell_type": "code",
   "execution_count": null,
   "metadata": {
    "id": "K7PJtxW0962h"
   },
   "outputs": [],
   "source": [
    "# Si lo quisieramos normalizar el area hay que agregar una opcion mas que es density=True como para\n",
    "# que entienda que queremos ver la \"densidad de probabilidad\", forma cheta para decir: normalizar el area.\n",
    "\n",
    "n, bins, patches = plt.hist(data, bins=20, edgecolor='black', facecolor='royalblue', alpha=0.75, density=True)"
   ]
  },
  {
   "cell_type": "markdown",
   "metadata": {
    "id": "M3zTg3Fy962h"
   },
   "source": [
    "Y ya que estamos, para concientizar acerca de los peligros a la hora de la elección de *bins*, graficamos algunos histogramas superpuestos."
   ]
  },
  {
   "cell_type": "code",
   "execution_count": null,
   "metadata": {
    "id": "q2C6GQa1962h"
   },
   "outputs": [],
   "source": [
    "n, bins, patches = plt.hist(data, bins=100, density=True, edgecolor='black', facecolor='royalblue', alpha=0.75)\n",
    "n, bins, patches = plt.hist(data, bins=20 , density=True, edgecolor='black', facecolor='purple'  , alpha=0.5)\n",
    "n, bins, patches = plt.hist(data, bins=2 , density=True, edgecolor='black', facecolor='indianred'  , alpha=0.3)"
   ]
  },
  {
   "cell_type": "markdown",
   "metadata": {
    "id": "os9gI8VL962h"
   },
   "source": [
    "### Ejercicio 6\n",
    "\n",
    "La función `randn` que usamos nos brinda números aleatorios distribuidos de manera gaussiana (distribución normal).\n",
    "\n",
    "1. Con lo mostrado arriba, cree un histograma con una distribución normal (igual que como hicimos ya) y superpongale una curva teórica de una gausiana.\n",
    "\n",
    "    __AYUDA__: Busquen \"plot normal distribution python\", en particular busquen la librería `scipy`.\n",
    "\n",
    "2. Haga el mismo ejercicio de recién pero con números aleatorios distribuidos de manera _uniforme_\n",
    "\n",
    "3. Lo mismo pero con números con una distribución pareto, o la distribución que prefieran.\n",
    "\n",
    "_Info:_ https://docs.scipy.org/doc/numpy-1.14.0/reference/routines.random.html"
   ]
  },
  {
   "cell_type": "markdown",
   "metadata": {
    "id": "jkcydFNN962i"
   },
   "source": [
    "---\n",
    "## Resolución de un sistema de ecuaciones diferenciales ordinarias (ODE)"
   ]
  },
  {
   "cell_type": "markdown",
   "metadata": {
    "id": "CmCFnDGi962i"
   },
   "source": [
    "Vamos con un caso simple y conocido por la mayoría: el infaltable problema del péndulo. Arrancamos desde donde sabemos todos. (Donde sabemos todos? Si no saben de donde salió esto no se hagan problema, es solo algo físico, no lo podemos evitar)\n",
    "\n",
    "$$ \\frac{d^2\\theta}{dt^2} + \\omega^2 \\theta = 0$$\n",
    "\n",
    "con $\\omega^2 = \\frac{g}{l}$\n",
    "\n",
    "Para resolver numéricamente este problema, proponemos utilizar la función `odeint` de la biblioteca `scipy.integrate` (Otra opción podría ser la función `solve_ivp`, para problemas de valores iniciales), y esa función utiliza un método no taaaaan distinto al [método de Euler](https://es.wikipedia.org/wiki/M%C3%A9todo_de_Euler) para la solución de ODE's, (inserte conocimientos de Cálculo Numérico aquí, sí, dale, cursala antes de recibirte) por lo que, para un problema con derivadas de segundo orden debemos armar un sistema de ecuaciones de primer orden.\n",
    "\n",
    "Sea $\\phi = \\dot{\\theta} \\rightarrow \\dot{\\phi} = \\ddot{\\theta}$\n",
    "\n",
    "Nos queda entonces"
   ]
  },
  {
   "cell_type": "markdown",
   "metadata": {
    "id": "upfUBhg0962i"
   },
   "source": [
    "$$\n",
    "\\begin{align}\n",
    "\\dot{\\theta} = \\phi \\\\\n",
    "\\dot{\\phi} = -\\omega^2 \\theta\n",
    "\\end{align}\n",
    "$$"
   ]
  },
  {
   "cell_type": "markdown",
   "metadata": {
    "id": "dDaJEPfA962i"
   },
   "source": [
    "o bien"
   ]
  },
  {
   "cell_type": "markdown",
   "metadata": {
    "id": "5Zgo72_G962i"
   },
   "source": [
    "$$\n",
    "\\begin{equation}\n",
    "\\begin{pmatrix}\n",
    "\\dot{\\theta} \\\\\n",
    "\\dot{\\phi}\n",
    "\\end{pmatrix}\n",
    "=\n",
    " \\begin{pmatrix}\n",
    "  0 & 1  \\\\\n",
    "  -\\omega^2 & 0\n",
    " \\end{pmatrix}\n",
    "\\begin{pmatrix}\n",
    "\\theta \\\\\n",
    "\\phi\n",
    "\\end{pmatrix}\n",
    "\\end{equation}\n",
    "$$"
   ]
  },
  {
   "cell_type": "markdown",
   "metadata": {
    "id": "U2iDy-Ds962i"
   },
   "source": [
    "o también\n",
    "\n",
    "$$ \\dot{\\vec{X}} = A \\vec{X} $$\n",
    "\n",
    "Escencialmente, nuestro `odeint` va a intentar resolver ese sistema para distintos $t$ mientras le hayamos dado un valor inicial de donde comenzar. Nada demasiado extraño. Así que lo que la función va a necesitar es una función que tome como primer argumento $\\vec{X}$, segundo argumento $t$ (por ser la variable independiente) y luego los demás parametros que necesite (en este caso sean $g$ y $l$) y opere para obtener $\\dot{\\vec{X}}$."
   ]
  },
  {
   "cell_type": "code",
   "execution_count": null,
   "metadata": {
    "id": "J8BJtVwJ962i"
   },
   "outputs": [],
   "source": [
    "from scipy.integrate import odeint\n",
    "import numpy as np"
   ]
  },
  {
   "cell_type": "code",
   "execution_count": null,
   "metadata": {
    "id": "FZEzyKKf962i"
   },
   "outputs": [],
   "source": [
    "def ecdif(X, t, g, l):\n",
    "    theta, phi = X\n",
    "    omega2 = g/l\n",
    "    return [phi, -omega2 * theta]\n",
    "\n",
    "g = 9.8\n",
    "l = 2\n",
    "X0 = [np.pi/4, 0]  # Inicio a 45 grados con velocidad = 0\n",
    "t = np.linspace(0, 10, 101)\n",
    "solucion = odeint(ecdif, X0, t, args = (g,l))\n",
    "\n",
    "plt.plot(t,solucion[:,0], label = 'theta')\n",
    "plt.plot(t,solucion[:,1], label = 'phi')\n",
    "plt.title('Resolucion del pendulo')\n",
    "plt.xlabel('Tiempo')\n",
    "plt.ylabel('Valores')\n",
    "plt.grid(True)\n",
    "plt.legend(loc = 'best')\n",
    "plt.show()"
   ]
  },
  {
   "cell_type": "markdown",
   "metadata": {
    "id": "ertoUgzD962j"
   },
   "source": [
    "Si quieren ver otro ejemplo que esto, recomendamos el [resuelto](https://github.com/fifabsas/talleresfifabsas/blob/master/python/Extras/Fisica2/oscilador_forzado.py) que hizo un Ex-FIFA del oscilador con forzante sin aproximación y comparado con la solución analítica (sí, esa que sin aproximación no buscó nadie). También recomendamos, a cuento de esto, un pasito más en resolución de ODE's que es una [simulación](https://github.com/fifabsas/talleresfifabsas/blob/master/python/Extras/Fisica1/simulacion.ipynb) de uno de los ejercicios de F1, donde se arma una animación y una visualización más interactiva con la biblioteca `ipywidgets` de tantas otras posibles."
   ]
  },
  {
   "cell_type": "markdown",
   "metadata": {
    "id": "X--JkuZr962j"
   },
   "source": [
    "### Ejercicio\n",
    "1. Resuelvan el oscilador armónico amortiguado con el parámetro $\\gamma$\n",
    "2. Vuelvan a todas esas guías que nadie terminó, busquen los ejercicios con asterisco, métanlos en Python y aprecien el poder del cálculo numérico."
   ]
  },
  {
   "cell_type": "markdown",
   "metadata": {
    "id": "O-H8jqXf962j"
   },
   "source": [
    "---\n",
    "\n",
    "## Un poco de algebra lineal con *NumPy*\n",
    "\n",
    "NumPy trae muchas funciones para resolver problemas típicos de algebra lineal usando a los arrays como vectores. El que nos interesa en general es el de autovalores y autovectores y el sistema de ecuaciones lineales, pero empecemos con un ejemplo más fácil:"
   ]
  },
  {
   "cell_type": "code",
   "execution_count": null,
   "metadata": {
    "id": "QNs8tiWP962j"
   },
   "outputs": [],
   "source": [
    "# cargamos el módulo de algebra lineal\n",
    "from numpy import linalg\n",
    "v = np.array([1, 1, 1])\n",
    "w = np.array([2, 2, 2])\n",
    "z = np.array([1, 0, 1])\n",
    "\n",
    "norma =linalg.norm(v)  # la norma 2 / módulo del vector v\n",
    "print(norma)\n",
    "print(np.sqrt(v[0]**2 + v[1]**2 + v[2]**2))  # calculado a mano == sqrt(3)\n",
    "print(norma == np.sqrt(3))  # y numpy sabe que son lo mismo"
   ]
  },
  {
   "cell_type": "markdown",
   "metadata": {
    "id": "tlvBi-C1962j"
   },
   "source": [
    "Ahora si, usemos los vectores que creamos recién para crear una matriz y digamosle a _NumPy_ que calcule los autovectoresy autovalores de esa matriz:"
   ]
  },
  {
   "cell_type": "code",
   "execution_count": null,
   "metadata": {
    "id": "gN8V4XrM962k"
   },
   "outputs": [],
   "source": [
    "matriz = np.array([v, w, z], dtype=np.float64)\n",
    "#eig devuelve una tupla de arrays con los autovalores en un array 1D y los autovec en un array 2D\n",
    "eigens = linalg.eig(matriz)\n",
    "\n",
    "autvals, autvecs = eigens\n",
    "\n",
    "print('Los autovalores:', autvals)\n",
    "print()\n",
    "print('Los autovectores:', autvecs)\n",
    "\n",
    "#se terminó el problema"
   ]
  },
  {
   "cell_type": "markdown",
   "metadata": {
    "id": "8raIhKR9962k"
   },
   "source": [
    "Y para un sistema de ecuaciones del tipo $Ax = b$:"
   ]
  },
  {
   "cell_type": "code",
   "execution_count": null,
   "metadata": {
    "id": "rOJc7Tr9962k"
   },
   "outputs": [],
   "source": [
    "mat = np.array([[1, 2, 5], [2, 5, 8], [4, 0, 8]], dtype=np.float64)\n",
    "b = np.array([1, 2, 3])\n",
    "x = linalg.solve(mat, b)  # resuelve el sistema A*x = b\n",
    "print(x)\n",
    "\n",
    "# se terminó el problema"
   ]
  },
  {
   "cell_type": "markdown",
   "metadata": {
    "id": "HpYidTEj962k"
   },
   "source": [
    "Por supuesto, también se puede hacer producto matriz con vector, y... oh si, se pueden calcular *inversas*."
   ]
  },
  {
   "cell_type": "code",
   "execution_count": null,
   "metadata": {
    "id": "4p7XCsP8962k"
   },
   "outputs": [],
   "source": [
    "print(np.dot(mat,x))\n",
    "print(linalg.inv(mat))"
   ]
  },
  {
   "cell_type": "markdown",
   "metadata": {
    "id": "3G_G--wB962k"
   },
   "source": [
    "---\n",
    "\n",
    "### Ejercicio\n",
    "\n",
    "Parecen incrédulos. Fabriquen entonces la matriz\n",
    "$$\n",
    "\\begin{equation}\n",
    "A =\n",
    "\\begin{pmatrix}\n",
    "  0 & 1 \\\\\n",
    "  1 & 0  \n",
    "\\end{pmatrix}\n",
    "\\end{equation}\n",
    "$$\n",
    "\n",
    "cuyos autovalores son $\\lambda_1 = 1$ y $\\lambda_2 = -1 $, hallen sus autovalores y autovectores (a mano y con Python) y calculen $Ax$ con\n",
    "$$\n",
    "\\begin{equation}\n",
    "x =\n",
    "\\begin{pmatrix}\n",
    "1\\\\0\n",
    "\\end{pmatrix}\n",
    "\\end{equation}\n",
    "$$"
   ]
  },
  {
   "cell_type": "markdown",
   "metadata": {
    "id": "vAPW4KK4962l"
   },
   "source": [
    "---\n",
    "### Ejercicio\n",
    "\n",
    "Inventen una matriz de 5x5 (con el método que quieran y ¡que no sea la identidad!) y averigüen si es invertible. Si están prestando atención, saben que para resolver este problema les conviene ver la documentación de numpy.linalg.\n",
    "\n",
    "*Ayuda*: ¿Es necesario calcular la inversa? ¿Se acuerdan algo de álgebra lineal?"
   ]
  },
  {
   "cell_type": "markdown",
   "metadata": {
    "id": "CIyR9IN1962l"
   },
   "source": [
    "---\n",
    "\n",
    "# Cálculo simbólico"
   ]
  },
  {
   "cell_type": "markdown",
   "metadata": {
    "id": "eYBAxJJm962l"
   },
   "source": [
    "Ahora no sólo nos vamos a emancipar del *Oriyin*, sino también del bendito *Wolfram Alpha* (Disclaimer: si bien la librería que se usa es muy buena, todavía no llega a tener el nivel de software como Mathematica, Maple, etc).\n",
    "Así es, Python nos va a permitir hacer cálculos simbólicos, como las integrales que nunca supimos calcular. Todo eso y más, en el paquete **SymPy**:\n",
    "\n",
    "Hemos dicho que en general no es una buena práctica, pero este es uno de los pocos casos para los cuales se justifica importar toda la librería."
   ]
  },
  {
   "cell_type": "code",
   "execution_count": null,
   "metadata": {
    "id": "kuI4A5Bi962l"
   },
   "outputs": [],
   "source": [
    "from sympy import *\n",
    "from sympy.abc import *"
   ]
  },
  {
   "cell_type": "markdown",
   "metadata": {
    "id": "W1olTVDy962l"
   },
   "source": [
    "Les daremos ahora un breve tour por algunas de las funciones que nos ofrece *SymPy*. Así como *numpy* nos introdujo el array como tipo de variable, las expresiones algebraicas en *sympy* son del tipo *symbols*. Estas pueden representar números enteros, reales, funciones, etc.\n",
    "\n",
    "A diferencia de las librerías anteriores, en las cuales usualmente escribimos los comandos dentro de un archivo a ejectutar todo junto (*script*); a modo de demostración utilizaremos *SymPy* de forma *interactiva*. Esta es posiblemente la manera en la que usaron *Wolfram Alpha* o *Mathematica* (para quienes lo hayan hecho)."
   ]
  },
  {
   "cell_type": "markdown",
   "metadata": {
    "id": "CxxEcAOg962l"
   },
   "source": [
    "Vimos aquí que una cantidad de variables se definieron como *symbols* de distintos tipos.\n",
    "Veamos ahora algunas de las posibilidades que tenemos:"
   ]
  },
  {
   "cell_type": "code",
   "execution_count": null,
   "metadata": {
    "id": "X5XqCDBK962l"
   },
   "outputs": [],
   "source": [
    "expand( (x + y)**2 )"
   ]
  },
  {
   "cell_type": "code",
   "execution_count": null,
   "metadata": {
    "id": "_3BpC6FA962m"
   },
   "outputs": [],
   "source": [
    "factor( x**6 - 1 )"
   ]
  },
  {
   "cell_type": "markdown",
   "metadata": {
    "id": "HY6jOTy1962m"
   },
   "source": [
    "Utilizando variables simbólicas de tipo integer, podemos hacer algunas sumatorias, por ejemplo, la famosa $$\\sum_{k=0}^{m}k$$"
   ]
  },
  {
   "cell_type": "code",
   "execution_count": null,
   "metadata": {
    "id": "NdPN4ENj962m"
   },
   "outputs": [],
   "source": [
    "Sum(k, (k,0,m) ).doit().factor()  #el comando .doit() evalúa la suma"
   ]
  },
  {
   "cell_type": "markdown",
   "metadata": {
    "id": "1Q3uw70F962m"
   },
   "source": [
    "O incluso algunas series, como $$ \\sum_{n=1}^{\\infty}\\frac{1}{n^2} $$"
   ]
  },
  {
   "cell_type": "code",
   "execution_count": null,
   "metadata": {
    "id": "kwmMpZqV962m"
   },
   "outputs": [],
   "source": [
    "Sum(1/n**2, (n, 1, oo)).doit()  # el infinito se escribe como oo (dos o minúscula)"
   ]
  },
  {
   "cell_type": "markdown",
   "metadata": {
    "id": "D2cvgvFz962n"
   },
   "source": [
    "---\n",
    "Posiblemente si queremos algo de cálculo simbólico, sea para calcular derivadas e integrales que nos molesten. Veamos algunos ejemplos $\\dfrac{\\text{d}x^n}{\\text{d}x}$"
   ]
  },
  {
   "cell_type": "code",
   "execution_count": null,
   "metadata": {
    "id": "kxObFxZm962n"
   },
   "outputs": [],
   "source": [
    "diff(x**n , x).simplify()"
   ]
  },
  {
   "cell_type": "markdown",
   "metadata": {
    "id": "K53CSEud962n"
   },
   "source": [
    "$$ \\frac{d}{dx}\\big(\\ \\sin(\\tan(8x))\\ \\big)$$"
   ]
  },
  {
   "cell_type": "code",
   "execution_count": null,
   "metadata": {
    "id": "lVIREd40962n"
   },
   "outputs": [],
   "source": [
    "diff(sin(tan(8*x)), x)"
   ]
  },
  {
   "cell_type": "code",
   "execution_count": null,
   "metadata": {
    "id": "ndyUqaL5962o"
   },
   "outputs": [],
   "source": [
    "out = diff(sin(tan(8*x)), x).simplify()"
   ]
  },
  {
   "cell_type": "code",
   "execution_count": null,
   "metadata": {
    "id": "45pXhy2R962p"
   },
   "outputs": [],
   "source": [
    "# Podemos hacer sustituciones de simbolos por otros simbolos!!\n",
    "out.subs(x, sqrt(y))"
   ]
  },
  {
   "cell_type": "code",
   "execution_count": null,
   "metadata": {
    "id": "98T7KC_p962p"
   },
   "outputs": [],
   "source": [
    "# Hasta podemos sustituir por valores numéricos y evaluar la funcion!!\n",
    "print(f\"{out.subs(x, 8)} = {out.subs(x, 8).evalf()}\")"
   ]
  },
  {
   "cell_type": "markdown",
   "metadata": {
    "id": "xf8_cHFd962p"
   },
   "source": [
    "Si alguno desconfia, puede verlo desde [WolframAlfa](https://www.wolframalpha.com/input/?i=%288+%2B+8*tan%2864%29**2%29*log%288%29*cos%28tan%2864%29%29+%2B+sin%28tan%2864%29%29%2F8)"
   ]
  },
  {
   "cell_type": "markdown",
   "metadata": {
    "id": "TqZ6zIq-962p"
   },
   "source": [
    "---\n",
    "Otro ejemplo! Derivadas parciales: $\\dfrac{\\partial^2}{\\partial y \\partial x}\\left( x\\sin{y} \\right)$"
   ]
  },
  {
   "cell_type": "code",
   "execution_count": null,
   "metadata": {
    "id": "ljf-qGec962p"
   },
   "outputs": [],
   "source": [
    "diff(x*sin(y), x, y)  # qué pasa si en lugar de x,y ponemos y,y?"
   ]
  },
  {
   "cell_type": "markdown",
   "metadata": {
    "id": "aOF7nn_m962q"
   },
   "source": [
    "También se pueden hacer integrales indefinidas o definidas con dominio infinito/acotado, obviamente luego se podría reemplazar en la expresión final por algun valor numérico, si así se quisiera\n",
    "$$\\int \\dfrac{1}{1+x^2}\\text{d}x$$"
   ]
  },
  {
   "cell_type": "code",
   "execution_count": null,
   "metadata": {
    "id": "ySbc_4Sc962q"
   },
   "outputs": [],
   "source": [
    "integrate(1/(1+x**2), x)"
   ]
  },
  {
   "cell_type": "markdown",
   "metadata": {
    "id": "vIiA9_y9962q"
   },
   "source": [
    "$$\\int_{-\\infty}^{+\\infty} \\dfrac{\\sin(x)}{x}\\text{d}x$$"
   ]
  },
  {
   "cell_type": "code",
   "execution_count": null,
   "metadata": {
    "id": "RFle8Vrl962q"
   },
   "outputs": [],
   "source": [
    "integrate( sin(x)/x, (x,-oo,oo) )"
   ]
  },
  {
   "cell_type": "markdown",
   "metadata": {
    "id": "vJPWRHlX962q"
   },
   "source": [
    "---\n",
    "Algo importantisimo y fabuloso de Sympy (algo que sorprendentemente NO tiene Mathematica ni Matlab) es que a cualquier expresión, podemos envolverla en un `latex()` para que devuelva la misma expresión que renderizó, pero en el formato de $\\LaTeX$. Derecho para mandar al informe o trabajo sin tipearla."
   ]
  },
  {
   "cell_type": "code",
   "execution_count": null,
   "metadata": {
    "id": "Z9-WrUrC962q"
   },
   "outputs": [],
   "source": [
    "out = diff(sin(tan(8*x))*log(x), x)\n",
    "out"
   ]
  },
  {
   "cell_type": "code",
   "execution_count": null,
   "metadata": {
    "id": "2jbmPoSA962q"
   },
   "outputs": [],
   "source": [
    "print(f\"Normal: {out}\")\n",
    "print(f\"LaTeX: {latex(out)}\")"
   ]
  },
  {
   "cell_type": "markdown",
   "metadata": {
    "id": "-RLymUU6962r"
   },
   "source": [
    "### Ejercicio 9"
   ]
  },
  {
   "cell_type": "markdown",
   "metadata": {
    "id": "mgtwvL9L962r"
   },
   "source": [
    "Calculen la siguiente integral:  $$ \\int_{-\\infty}^{+\\infty} e^{-x^2} \\text{d}x $$ (opcional: verificar el resultado a mano!)"
   ]
  },
  {
   "cell_type": "markdown",
   "metadata": {
    "id": "Q-Q3z26J962r"
   },
   "source": [
    "---\n",
    "# Integración numérica\n",
    "Siempre es útil tener a mano una rutina de integración numérica. Puede ser para el caso en el cual la integral analítica sea muy complicada o no estándar. También es fundamental para poder integrar datos obtenidos experimentalmente, sin asumir alguna función que los modele. Para ambos casos, el paquete relevante será `scipy.integrate`"
   ]
  },
  {
   "cell_type": "markdown",
   "metadata": {
    "id": "RC3J0M8Q962r"
   },
   "source": [
    "### A partir de una función predefinida\n",
    "En este caso, la función a importar es `quad`, porque usa un método de [cuadraturas](https://en.wikipedia.org/wiki/Numerical_integration#Quadrature_rules_based_on_interpolating_functions)"
   ]
  },
  {
   "cell_type": "code",
   "execution_count": null,
   "metadata": {
    "id": "SgaxatwB962s"
   },
   "outputs": [],
   "source": [
    "from scipy.integrate import quad"
   ]
  },
  {
   "cell_type": "markdown",
   "metadata": {
    "id": "uNMiXoEJ962s"
   },
   "source": [
    "Definamos una función para ser integrada. A modo de ejemplo, calcularemos\n",
    "\n",
    "$$\\int_a^b \\dfrac{\\text{e}^{-x^2 / 2}}{\\sqrt{2\\pi}}\\text{d}x$$"
   ]
  },
  {
   "cell_type": "code",
   "execution_count": null,
   "metadata": {
    "id": "lYJ_LgaS962s"
   },
   "outputs": [],
   "source": [
    "def integrando(x): return np.exp(-x**2 / 2)/np.sqrt(2*np.pi)"
   ]
  },
  {
   "cell_type": "markdown",
   "metadata": {
    "id": "XG-C7bdB962s"
   },
   "source": [
    "Ahora, llamamos a `quad` para integrar esta función entre $a=-1$ y $b=1$"
   ]
  },
  {
   "cell_type": "code",
   "execution_count": null,
   "metadata": {
    "id": "ySfZTQwC962s"
   },
   "outputs": [],
   "source": [
    "a = -1\n",
    "b = 1\n",
    "integral, error = quad(integrando, a, b)\n",
    "print(integral, error)"
   ]
  },
  {
   "cell_type": "markdown",
   "metadata": {
    "id": "vjN2Vtlx962s"
   },
   "source": [
    "Podemos, con este método, incluso obtener la primitiva numéricamente. Por ejemplo\n",
    "\n",
    "$$F(x) = \\int_a^x \\dfrac{\\text{e}^{-t^2 / 2}}{\\sqrt{2\\pi}}\\text{d}t$$"
   ]
  },
  {
   "cell_type": "code",
   "execution_count": null,
   "metadata": {
    "id": "sAEC3Y9E962s"
   },
   "outputs": [],
   "source": [
    "# Definimos este dominio\n",
    "x = np.linspace(-5,5,100)\n",
    "\n",
    "# Ahora obtenemos la primitiva\n",
    "prim = np.zeros(x.size)\n",
    "\n",
    "for i in range(x.size):\n",
    "    prim[i], error = quad(integrando, a, x[i])\n"
   ]
  },
  {
   "cell_type": "markdown",
   "metadata": {
    "id": "fklWsmsQ962s"
   },
   "source": [
    "Veamos la gráfica para este dominio"
   ]
  },
  {
   "cell_type": "code",
   "execution_count": null,
   "metadata": {
    "id": "ms1tun5v962s"
   },
   "outputs": [],
   "source": [
    "plt.figure()\n",
    "\n",
    "plt.plot(x, integrando(x), 'b', label = 'integrando')\n",
    "plt.plot(x, prim, 'r', label = 'primitiva')\n",
    "plt.grid(True)\n",
    "plt.legend()"
   ]
  },
  {
   "cell_type": "markdown",
   "metadata": {
    "id": "gJe4qqAN962t"
   },
   "source": [
    "---\n",
    "# Funciones especiales"
   ]
  },
  {
   "cell_type": "markdown",
   "metadata": {
    "id": "66Niqv2P962t"
   },
   "source": [
    "Tal vez en algún momento de la vida nos encontremos con funciones más exóticas que el seno, coseno y exponenciales, funciones que las conocemos de nombre pero de graficarlas ni hablemos. Por suerte, la biblioteca *scipy* cuenta con abanico muy grande de estas funciones con nombre propio. En la documentación (bloque de ayuda del spyder) podemos encontrar la lista completa de funciones, buscando `scipy.special`"
   ]
  },
  {
   "cell_type": "code",
   "execution_count": null,
   "metadata": {
    "id": "LtHMxZRT962t"
   },
   "outputs": [],
   "source": [
    "import scipy.special as sp"
   ]
  },
  {
   "cell_type": "markdown",
   "metadata": {
    "id": "8l__cNHR962t"
   },
   "source": [
    "Empecemos graficando un ejemplo común en probabilidad, la *función error*:"
   ]
  },
  {
   "cell_type": "code",
   "execution_count": null,
   "metadata": {
    "id": "sLUtQHSu962t"
   },
   "outputs": [],
   "source": [
    "import numpy as np\n",
    "import matplotlib.pyplot as plt\n",
    "%matplotlib inline\n",
    "\n",
    "x = np.linspace(-5,5,100)  # generamos el dominio\n",
    "y = sp.erf(x)  # llama a la función error de la librería\n",
    "\n",
    "plt.plot(x,y, label='función error')\n",
    "plt.grid(True)\n",
    "plt.legend(loc='best')\n",
    "plt.show()"
   ]
  },
  {
   "cell_type": "markdown",
   "metadata": {
    "id": "w1MvwHrI962t"
   },
   "source": [
    "Dentro de las muchas funciones que nos ofrece la librería, otro ejemplo importante en la física son las *funciones de Bessel* $J_{\\nu}(x)$. Hay una función para cada valor del índice $\\nu$ (que llamamos orden). En la librería, se llaman con el comando `jv(i,x)`, donde la primer entrada corresponde al orden $\\nu$.\n",
    "Como demostración, veamos ahora algunos de sus gráficos:"
   ]
  },
  {
   "cell_type": "code",
   "execution_count": null,
   "metadata": {
    "id": "QDA3Sseq962t"
   },
   "outputs": [],
   "source": [
    "num = 500\n",
    "r = np.linspace(0,10,num)\n",
    "\n",
    "for i in range(5):\n",
    "    y_i = sp.jv(i,r)  # para cada i, grafica la función de orden i\n",
    "    plt.plot(r,y_i,label='orden {}'.format(i))\n",
    "    plt.legend(loc='best')\n",
    "plt.grid(True)\n",
    "plt.xlim(0, 10)\n",
    "plt.title('Funciones de Bessel')"
   ]
  },
  {
   "cell_type": "markdown",
   "metadata": {
    "id": "vD1okFNq962u"
   },
   "source": [
    "### Ejercicio 8"
   ]
  },
  {
   "cell_type": "markdown",
   "metadata": {
    "id": "HYCHhzoQ962u"
   },
   "source": [
    "1. Busquen en la documentación la función *gamma*, y grafiquenla en el intervalo $\\left[-5,5\\right]$\n",
    "2. (Opcional) Googleen a ver qué es lo tan importante de esa función."
   ]
  }
 ],
 "metadata": {
  "anaconda-cloud": {},
  "colab": {
   "provenance": []
  },
  "kernelspec": {
   "display_name": "Python 3",
   "language": "python",
   "name": "python3"
  },
  "language_info": {
   "codemirror_mode": {
    "name": "ipython",
    "version": 3
   },
   "file_extension": ".py",
   "mimetype": "text/x-python",
   "name": "python",
   "nbconvert_exporter": "python",
   "pygments_lexer": "ipython3",
   "version": "3.9.16"
  },
  "vscode": {
   "interpreter": {
    "hash": "a42cd95ca9a57c6387dbbfdd995a278478871c13a93fa5b980ac93bb6d23c0e2"
   }
  }
 },
 "nbformat": 4,
 "nbformat_minor": 0
}
